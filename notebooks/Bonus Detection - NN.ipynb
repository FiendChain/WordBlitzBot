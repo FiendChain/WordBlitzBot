{
 "cells": [
  {
   "cell_type": "code",
   "execution_count": 1,
   "metadata": {},
   "outputs": [
    {
     "name": "stderr",
     "output_type": "stream",
     "text": [
      "Using TensorFlow backend.\n"
     ]
    }
   ],
   "source": [
    "import numpy as np\n",
    "import os\n",
    "from keras.preprocessing.image import ImageDataGenerator\n",
    "from keras import regularizers, optimizers\n",
    "import pandas as pd"
   ]
  },
  {
   "cell_type": "code",
   "execution_count": 2,
   "metadata": {},
   "outputs": [],
   "source": [
    "import matplotlib\n",
    "import matplotlib.pyplot as plt\n",
    "import cv2\n",
    "import scipy\n",
    "matplotlib.rcParams['figure.figsize'] = [15, 15]"
   ]
  },
  {
   "cell_type": "code",
   "execution_count": 3,
   "metadata": {},
   "outputs": [],
   "source": [
    "import keras\n",
    "from keras.layers import Dense, Activation, Flatten, Dropout, BatchNormalization, Input, Softmax\n",
    "from keras.layers import Conv2D, MaxPooling2D, SeparableConv2D\n",
    "from keras.layers import LeakyReLU"
   ]
  },
  {
   "cell_type": "code",
   "execution_count": 171,
   "metadata": {},
   "outputs": [],
   "source": [
    "image_gen = ImageDataGenerator(validation_split=0.15, rescale=1.0/255.0, width_shift_range=4, height_shift_range=4)\n",
    "dataframe = pd.read_csv(\"../assets/data/bonuses/labels.txt\", delim_whitespace=True)\n",
    "input_shape = (15, 22)"
   ]
  },
  {
   "cell_type": "code",
   "execution_count": 172,
   "metadata": {},
   "outputs": [],
   "source": [
    "categories = {}\n",
    "for i, data in dataframe.iterrows():\n",
    "    filename, category = data\n",
    "    categories.setdefault(category, 0)\n",
    "    categories[category] += 1"
   ]
  },
  {
   "cell_type": "code",
   "execution_count": 173,
   "metadata": {},
   "outputs": [
    {
     "data": {
      "text/plain": [
       "{'1X': 3575, '2L': 575, '2W': 450, '3L': 525, '3W': 75}"
      ]
     },
     "execution_count": 173,
     "metadata": {},
     "output_type": "execute_result"
    }
   ],
   "source": [
    "categories"
   ]
  },
  {
   "cell_type": "code",
   "execution_count": 174,
   "metadata": {},
   "outputs": [
    {
     "name": "stdout",
     "output_type": "stream",
     "text": [
      "Found 4420 validated image filenames belonging to 5 classes.\n"
     ]
    }
   ],
   "source": [
    "training_generator = image_gen.flow_from_dataframe(\n",
    "    dataframe=dataframe, \n",
    "    directory=\"../assets/data/bonuses/\",\n",
    "    x_col=\"filename\",\n",
    "    y_col=\"category\",\n",
    "    subset=\"training\",\n",
    "    batch_size=20,\n",
    "    classes=None,\n",
    "    class_mode=\"categorical\",\n",
    "    shuffle=True,\n",
    "    target_size=input_shape\n",
    ")"
   ]
  },
  {
   "cell_type": "code",
   "execution_count": 175,
   "metadata": {},
   "outputs": [
    {
     "data": {
      "text/plain": [
       "{'1X': 0, '2L': 1, '2W': 2, '3L': 3, '3W': 4}"
      ]
     },
     "execution_count": 175,
     "metadata": {},
     "output_type": "execute_result"
    }
   ],
   "source": [
    "training_generator.class_indices"
   ]
  },
  {
   "cell_type": "code",
   "execution_count": 152,
   "metadata": {},
   "outputs": [
    {
     "name": "stdout",
     "output_type": "stream",
     "text": [
      "Found 780 validated image filenames belonging to 5 classes.\n"
     ]
    }
   ],
   "source": [
    "validation_generator = image_gen.flow_from_dataframe(\n",
    "    dataframe=dataframe, \n",
    "    directory=\"../assets/data/bonuses/\",\n",
    "    x_col=\"filename\",\n",
    "    y_col=\"category\",\n",
    "    subset=\"validation\",\n",
    "    batch_size=20,\n",
    "    classes=None,\n",
    "    class_mode=\"categorical\",\n",
    "    shuffle=True,\n",
    "    target_size=input_shape\n",
    ")"
   ]
  },
  {
   "cell_type": "code",
   "execution_count": 176,
   "metadata": {},
   "outputs": [
    {
     "data": {
      "text/plain": [
       "{'1X': 0, '2L': 1, '2W': 2, '3L': 3, '3W': 4}"
      ]
     },
     "execution_count": 176,
     "metadata": {},
     "output_type": "execute_result"
    }
   ],
   "source": [
    "validation_generator.class_indices"
   ]
  },
  {
   "cell_type": "code",
   "execution_count": 177,
   "metadata": {},
   "outputs": [],
   "source": [
    "alpha = 0.2\n",
    "\n",
    "inputs = Input(shape=input_shape+(3,))\n",
    "\n",
    "x = Conv2D(8, (3, 3))(inputs)\n",
    "x = LeakyReLU(alpha)(x)\n",
    "x = MaxPooling2D((2, 2))(x)\n",
    "\n",
    "x = Conv2D(16, (3, 3))(inputs)\n",
    "x = LeakyReLU(alpha)(x)\n",
    "x = MaxPooling2D((2, 2))(x)\n",
    "\n",
    "x = Conv2D(32, (3, 3))(x)\n",
    "x = LeakyReLU(alpha)(x)\n",
    "x = MaxPooling2D((2, 2))(x)\n",
    "\n",
    "x = Flatten()(x)\n",
    "\n",
    "x = Dense(32)(x)\n",
    "x = LeakyReLU(alpha)(x)\n",
    "\n",
    "x = Dense(16)(x)\n",
    "x = LeakyReLU(alpha)(x)\n",
    "\n",
    "x = Dense(5, activation=\"softmax\")(x)\n",
    "outputs = x\n",
    "\n",
    "model = keras.Model(inputs=inputs, outputs=outputs)\n",
    "model.compile(\n",
    "    optimizer=keras.optimizers.Adam(lr=0.0001),\n",
    "    loss=\"categorical_crossentropy\",\n",
    "    metrics=[\"accuracy\"])"
   ]
  },
  {
   "cell_type": "code",
   "execution_count": 178,
   "metadata": {},
   "outputs": [
    {
     "name": "stdout",
     "output_type": "stream",
     "text": [
      "Model: \"model_9\"\n",
      "_________________________________________________________________\n",
      "Layer (type)                 Output Shape              Param #   \n",
      "=================================================================\n",
      "input_10 (InputLayer)        (None, 15, 22, 3)         0         \n",
      "_________________________________________________________________\n",
      "conv2d_16 (Conv2D)           (None, 13, 20, 16)        448       \n",
      "_________________________________________________________________\n",
      "leaky_re_lu_31 (LeakyReLU)   (None, 13, 20, 16)        0         \n",
      "_________________________________________________________________\n",
      "max_pooling2d_22 (MaxPooling (None, 6, 10, 16)         0         \n",
      "_________________________________________________________________\n",
      "conv2d_17 (Conv2D)           (None, 4, 8, 32)          4640      \n",
      "_________________________________________________________________\n",
      "leaky_re_lu_32 (LeakyReLU)   (None, 4, 8, 32)          0         \n",
      "_________________________________________________________________\n",
      "max_pooling2d_23 (MaxPooling (None, 2, 4, 32)          0         \n",
      "_________________________________________________________________\n",
      "flatten_9 (Flatten)          (None, 256)               0         \n",
      "_________________________________________________________________\n",
      "dense_18 (Dense)             (None, 32)                8224      \n",
      "_________________________________________________________________\n",
      "leaky_re_lu_33 (LeakyReLU)   (None, 32)                0         \n",
      "_________________________________________________________________\n",
      "dense_19 (Dense)             (None, 16)                528       \n",
      "_________________________________________________________________\n",
      "leaky_re_lu_34 (LeakyReLU)   (None, 16)                0         \n",
      "_________________________________________________________________\n",
      "dense_20 (Dense)             (None, 5)                 85        \n",
      "=================================================================\n",
      "Total params: 13,925\n",
      "Trainable params: 13,925\n",
      "Non-trainable params: 0\n",
      "_________________________________________________________________\n"
     ]
    }
   ],
   "source": [
    "model.summary()"
   ]
  },
  {
   "cell_type": "code",
   "execution_count": 179,
   "metadata": {},
   "outputs": [
    {
     "name": "stdout",
     "output_type": "stream",
     "text": [
      "Epoch 1/10\n",
      "221/221 [==============================] - 4s 20ms/step - loss: 1.0207 - accuracy: 0.6776 - val_loss: 0.9399 - val_accuracy: 0.7436\n",
      "Epoch 2/10\n",
      "221/221 [==============================] - 4s 20ms/step - loss: 0.7294 - accuracy: 0.6808 - val_loss: 0.3966 - val_accuracy: 0.7603\n",
      "Epoch 3/10\n",
      "221/221 [==============================] - 4s 19ms/step - loss: 0.2339 - accuracy: 0.9647 - val_loss: 0.0652 - val_accuracy: 0.9679\n",
      "Epoch 4/10\n",
      "221/221 [==============================] - 4s 20ms/step - loss: 0.0662 - accuracy: 0.9887 - val_loss: 0.1022 - val_accuracy: 0.9679\n",
      "Epoch 5/10\n",
      "221/221 [==============================] - 4s 19ms/step - loss: 0.0281 - accuracy: 0.9930 - val_loss: 0.0460 - val_accuracy: 1.0000\n",
      "Epoch 6/10\n",
      "221/221 [==============================] - 4s 19ms/step - loss: 0.0151 - accuracy: 1.0000 - val_loss: 0.0063 - val_accuracy: 1.0000\n",
      "Epoch 7/10\n",
      "221/221 [==============================] - 4s 20ms/step - loss: 0.0086 - accuracy: 1.0000 - val_loss: 0.0143 - val_accuracy: 1.0000\n",
      "Epoch 8/10\n",
      "221/221 [==============================] - 4s 20ms/step - loss: 0.0055 - accuracy: 1.0000 - val_loss: 0.0020 - val_accuracy: 1.0000\n",
      "Epoch 9/10\n",
      "221/221 [==============================] - 4s 20ms/step - loss: 0.0037 - accuracy: 1.0000 - val_loss: 0.0017 - val_accuracy: 1.0000\n",
      "Epoch 10/10\n",
      "221/221 [==============================] - 4s 20ms/step - loss: 0.0026 - accuracy: 1.0000 - val_loss: 0.0010 - val_accuracy: 1.0000\n"
     ]
    },
    {
     "data": {
      "text/plain": [
       "<keras.callbacks.callbacks.History at 0x227b948a400>"
      ]
     },
     "execution_count": 179,
     "metadata": {},
     "output_type": "execute_result"
    }
   ],
   "source": [
    "steps_per_epoch = training_generator.n//training_generator.batch_size\n",
    "validation_steps = validation_generator.n//validation_generator.batch_size\n",
    "\n",
    "model.fit_generator(\n",
    "    generator=training_generator,\n",
    "    steps_per_epoch=steps_per_epoch,\n",
    "    validation_data=validation_generator,\n",
    "    validation_steps=validation_steps,\n",
    "    epochs=10,\n",
    ")"
   ]
  },
  {
   "cell_type": "code",
   "execution_count": 186,
   "metadata": {},
   "outputs": [],
   "source": [
    "model.save(\"bonuses.h5\")"
   ]
  },
  {
   "cell_type": "code",
   "execution_count": 183,
   "metadata": {},
   "outputs": [
    {
     "data": {
      "image/png": "[encoded data removed]",
      "text/plain": [
       "<Figure size 432x288 with 1 Axes>"
      ]
     },
     "metadata": {
      "needs_background": "light"
     },
     "output_type": "display_data"
    }
   ],
   "source": [
    "batch = 0\n",
    "index = 0\n",
    "plt.imshow(validation_generator[batch][index][0])\n",
    "plt.show()"
   ]
  },
  {
   "cell_type": "code",
   "execution_count": 187,
   "metadata": {},
   "outputs": [
    {
     "name": "stdout",
     "output_type": "stream",
     "text": [
      "[[1. 0. 0. 0. 0.]\n",
      " [0. 0. 0. 0. 1.]]\n",
      "[0 4]\n"
     ]
    },
    {
     "data": {
      "image/png": "[encoded data removed]",
      "text/plain": [
       "<Figure size 432x288 with 1 Axes>"
      ]
     },
     "metadata": {
      "needs_background": "light"
     },
     "output_type": "display_data"
    },
    {
     "data": {
      "image/png": "[encoded data removed]",
      "text/plain": [
       "<Figure size 432x288 with 1 Axes>"
      ]
     },
     "metadata": {
      "needs_background": "light"
     },
     "output_type": "display_data"
    }
   ],
   "source": [
    "other_image = cv2.imread(\"../assets/data/bonuses/sample_0.png\")\n",
    "image = cv2.imread(\"../assets/data/bonuses/sample_4225.png\")\n",
    "image = cv2.cvtColor(image, cv2.COLOR_BGR2RGB)\n",
    "data = np.array([other_image, image])\n",
    "prediction = model.predict(data)\n",
    "print(prediction)\n",
    "print(np.argmax(prediction, axis=1))\n",
    "\n",
    "# {'1X': 0, '2L': 1, '2W': 2, '3L': 3, '3W': 4}\n",
    "\n",
    "plt.imshow(other_image)\n",
    "plt.show()\n",
    "plt.imshow(image)\n",
    "plt.show()"
   ]
  },
  {
   "cell_type": "code",
   "execution_count": null,
   "metadata": {},
   "outputs": [],
   "source": []
  }
 ],
 "metadata": {
  "kernelspec": {
   "display_name": "Python 3",
   "language": "python",
   "name": "python3"
  },
  "language_info": {
   "codemirror_mode": {
    "name": "ipython",
    "version": 3
   },
   "file_extension": ".py",
   "mimetype": "text/x-python",
   "name": "python",
   "nbconvert_exporter": "python",
   "pygments_lexer": "ipython3",
   "version": "3.7.3"
  }
 },
 "nbformat": 4,
 "nbformat_minor": 2
}
