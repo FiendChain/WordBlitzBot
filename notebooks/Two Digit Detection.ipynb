{
 "cells": [
  {
   "cell_type": "code",
   "execution_count": 1,
   "metadata": {},
   "outputs": [
    {
     "name": "stderr",
     "output_type": "stream",
     "text": [
      "Using TensorFlow backend.\n"
     ]
    }
   ],
   "source": [
    "import numpy as np\n",
    "import os\n",
    "from keras.preprocessing.image import ImageDataGenerator\n",
    "from keras import regularizers, optimizers\n",
    "import pandas as pd"
   ]
  },
  {
   "cell_type": "code",
   "execution_count": 2,
   "metadata": {},
   "outputs": [],
   "source": [
    "import matplotlib\n",
    "import matplotlib.pyplot as plt\n",
    "import cv2\n",
    "import scipy\n",
    "matplotlib.rcParams['figure.figsize'] = [15, 15]"
   ]
  },
  {
   "cell_type": "code",
   "execution_count": 134,
   "metadata": {},
   "outputs": [],
   "source": [
    "import keras\n",
    "from keras.layers import Dense, Activation, Flatten, Dropout, BatchNormalization, Input, Softmax\n",
    "from keras.layers import Conv2D, MaxPooling2D, SeparableConv2D\n",
    "from keras.layers import LeakyReLU\n",
    "from keras.layers import Lambda\n",
    "from keras.layers import concatenate"
   ]
  },
  {
   "cell_type": "code",
   "execution_count": 4,
   "metadata": {},
   "outputs": [],
   "source": [
    "target_shape = (17, 22)"
   ]
  },
  {
   "cell_type": "code",
   "execution_count": 202,
   "metadata": {},
   "outputs": [],
   "source": [
    "input_shape = (17, 22, 3)\n",
    "alpha = 0.2\n",
    "\n",
    "inputs = Input(shape=input_shape)\n",
    "\n",
    "x = Conv2D(8, (3, 3))(inputs)\n",
    "x = LeakyReLU(alpha)(x)\n",
    "x = MaxPooling2D((2, 2))(x)\n",
    "\n",
    "x = Conv2D(16, (3, 3))(inputs)\n",
    "x = LeakyReLU(alpha)(x)\n",
    "x = MaxPooling2D((2, 2))(x)\n",
    "\n",
    "x = Conv2D(32, (3, 3))(x)\n",
    "x = LeakyReLU(alpha)(x)\n",
    "x = MaxPooling2D((2, 2))(x)\n",
    "\n",
    "x = Flatten()(x)\n",
    "\n",
    "x = Dense(128)(x)\n",
    "x = LeakyReLU(alpha)(x)\n",
    "\n",
    "x = Dense(64)(x)\n",
    "x = LeakyReLU(alpha)(x)\n",
    "\n",
    "x = Dense(22)(x)\n",
    "\n",
    "digit_type = Dense(2)(x)\n",
    "left_digit = Dense(10)(x)\n",
    "right_digit = Dense(10)(x)\n",
    "\n",
    "digit_type = Softmax()(digit_type)\n",
    "left_digit = Softmax()(left_digit)\n",
    "right_digit = Softmax()(right_digit)\n",
    "\n",
    "\n",
    "\n",
    "\n",
    "outputs = concatenate([digit_type, left_digit, right_digit])\n",
    "\n",
    "model = keras.Model(inputs=inputs, outputs=outputs)\n",
    "model.compile(\n",
    "    optimizer=keras.optimizers.Adam(lr=0.0001),\n",
    "    loss=\"categorical_crossentropy\",\n",
    "    metrics=[\"accuracy\"])"
   ]
  },
  {
   "cell_type": "code",
   "execution_count": 203,
   "metadata": {},
   "outputs": [
    {
     "name": "stdout",
     "output_type": "stream",
     "text": [
      "Model: \"model_12\"\n",
      "__________________________________________________________________________________________________\n",
      "Layer (type)                    Output Shape         Param #     Connected to                     \n",
      "==================================================================================================\n",
      "input_19 (InputLayer)           (None, 17, 22, 3)    0                                            \n",
      "__________________________________________________________________________________________________\n",
      "conv2d_56 (Conv2D)              (None, 15, 20, 16)   448         input_19[0][0]                   \n",
      "__________________________________________________________________________________________________\n",
      "leaky_re_lu_107 (LeakyReLU)     (None, 15, 20, 16)   0           conv2d_56[0][0]                  \n",
      "__________________________________________________________________________________________________\n",
      "max_pooling2d_56 (MaxPooling2D) (None, 7, 10, 16)    0           leaky_re_lu_107[0][0]            \n",
      "__________________________________________________________________________________________________\n",
      "conv2d_57 (Conv2D)              (None, 5, 8, 32)     4640        max_pooling2d_56[0][0]           \n",
      "__________________________________________________________________________________________________\n",
      "leaky_re_lu_108 (LeakyReLU)     (None, 5, 8, 32)     0           conv2d_57[0][0]                  \n",
      "__________________________________________________________________________________________________\n",
      "max_pooling2d_57 (MaxPooling2D) (None, 2, 4, 32)     0           leaky_re_lu_108[0][0]            \n",
      "__________________________________________________________________________________________________\n",
      "flatten_19 (Flatten)            (None, 256)          0           max_pooling2d_57[0][0]           \n",
      "__________________________________________________________________________________________________\n",
      "dense_60 (Dense)                (None, 128)          32896       flatten_19[0][0]                 \n",
      "__________________________________________________________________________________________________\n",
      "leaky_re_lu_109 (LeakyReLU)     (None, 128)          0           dense_60[0][0]                   \n",
      "__________________________________________________________________________________________________\n",
      "dense_61 (Dense)                (None, 64)           8256        leaky_re_lu_109[0][0]            \n",
      "__________________________________________________________________________________________________\n",
      "leaky_re_lu_110 (LeakyReLU)     (None, 64)           0           dense_61[0][0]                   \n",
      "__________________________________________________________________________________________________\n",
      "dense_62 (Dense)                (None, 22)           1430        leaky_re_lu_110[0][0]            \n",
      "__________________________________________________________________________________________________\n",
      "dense_63 (Dense)                (None, 2)            46          dense_62[0][0]                   \n",
      "__________________________________________________________________________________________________\n",
      "dense_64 (Dense)                (None, 10)           230         dense_62[0][0]                   \n",
      "__________________________________________________________________________________________________\n",
      "dense_65 (Dense)                (None, 10)           230         dense_62[0][0]                   \n",
      "__________________________________________________________________________________________________\n",
      "softmax_26 (Softmax)            (None, 2)            0           dense_63[0][0]                   \n",
      "__________________________________________________________________________________________________\n",
      "softmax_27 (Softmax)            (None, 10)           0           dense_64[0][0]                   \n",
      "__________________________________________________________________________________________________\n",
      "softmax_28 (Softmax)            (None, 10)           0           dense_65[0][0]                   \n",
      "__________________________________________________________________________________________________\n",
      "concatenate_11 (Concatenate)    (None, 22)           0           softmax_26[0][0]                 \n",
      "                                                                 softmax_27[0][0]                 \n",
      "                                                                 softmax_28[0][0]                 \n",
      "==================================================================================================\n",
      "Total params: 48,176\n",
      "Trainable params: 48,176\n",
      "Non-trainable params: 0\n",
      "__________________________________________________________________________________________________\n"
     ]
    }
   ],
   "source": [
    "model.summary()"
   ]
  },
  {
   "cell_type": "code",
   "execution_count": 230,
   "metadata": {},
   "outputs": [],
   "source": [
    "dataframe = pd.read_csv(\"value_samples/labels.txt\", delim_whitespace=True)"
   ]
  },
  {
   "cell_type": "code",
   "execution_count": 51,
   "metadata": {},
   "outputs": [
    {
     "data": {
      "text/plain": [
       "filename        sample_0.png\n",
       "total_digits               2\n",
       "left_digit                 0\n",
       "right_digit                0\n",
       "Name: 0, dtype: object"
      ]
     },
     "execution_count": 51,
     "metadata": {},
     "output_type": "execute_result"
    }
   ],
   "source": [
    "dataframe.iloc[0]"
   ]
  },
  {
   "cell_type": "code",
   "execution_count": 128,
   "metadata": {},
   "outputs": [
    {
     "name": "stdout",
     "output_type": "stream",
     "text": [
      "filename        sample_0.png\n",
      "total_digits               2\n",
      "left_digit                 0\n",
      "right_digit                0\n",
      "Name: 0, dtype: object\n",
      "[1. 0. 1. 0. 0. 0. 0. 0. 0. 0. 0. 0. 1. 0. 0. 0. 0. 0. 0. 0. 0. 0.]\n"
     ]
    }
   ],
   "source": [
    "i, row = dataframe.iterrows().__next__()\n",
    "print(row)\n",
    "\n",
    "total_digits = row['total_digits']\n",
    "left_digit = row['left_digit']\n",
    "right_digit = row['right_digit']\n",
    "\n",
    "label = np.zeros(22)\n",
    "if total_digits == 2:\n",
    "    label[0] = 1\n",
    "    label[2+left_digit] = 1\n",
    "else:\n",
    "    label[1] = 1\n",
    "\n",
    "label[2+10+right_digit] = 1\n",
    "\n",
    "print(label)"
   ]
  },
  {
   "cell_type": "code",
   "execution_count": 231,
   "metadata": {},
   "outputs": [],
   "source": [
    "class ImageGenerator(keras.utils.Sequence):\n",
    "    def __init__(self, samples, batch_size):\n",
    "        self.samples = samples\n",
    "        self.batch_size = batch_size\n",
    "        \n",
    "    @property\n",
    "    def n(self):\n",
    "        return len(self.samples)\n",
    "    \n",
    "    def __len__(self):\n",
    "        return self.n // self.batch_size\n",
    "    \n",
    "    def __getitem__(self, i):\n",
    "        x = []\n",
    "        y = []\n",
    "        for filepath, label in self.samples[i*self.batch_size:(i+1)*self.batch_size]:\n",
    "            image = cv2.imread(filepath)\n",
    "            image = image / 255.0\n",
    "            x.append(image)\n",
    "            y.append(label)\n",
    "        return (np.array(x), np.array(y))"
   ]
  },
  {
   "cell_type": "code",
   "execution_count": 232,
   "metadata": {},
   "outputs": [],
   "source": [
    "def image_generator(dataframe, directory, batch_size, ratio=0.15):\n",
    "    # validate filenames\n",
    "    samples = []\n",
    "    for i, row in dataframe.iterrows():\n",
    "        filename = row['filename']\n",
    "        total_digits = row['total_digits']\n",
    "        left_digit = row['left_digit']\n",
    "        right_digit = row['right_digit']\n",
    "        \n",
    "        filepath = os.path.join(directory, filename)\n",
    "        if not os.path.exists(filepath):\n",
    "            continue\n",
    "        \n",
    "        label = np.zeros(22)\n",
    "        if total_digits == 2:\n",
    "            label[0] = 1\n",
    "            label[2+left_digit] = 1\n",
    "        else:\n",
    "            label[1] = 1\n",
    "\n",
    "        label[2+10+right_digit] = 1\n",
    "        \n",
    "        samples.append((filepath, label))\n",
    "        \n",
    "            \n",
    "    np.random.shuffle(samples)\n",
    "    \n",
    "    print(f\"Validated {len(samples)} files\")\n",
    "    \n",
    "    total_validation = int(len(samples) * ratio)\n",
    "    validation_samples = samples[:total_validation]\n",
    "    training_samples = samples[total_validation:]\n",
    "    \n",
    "    return ImageGenerator(training_samples, batch_size), ImageGenerator(validation_samples, batch_size)"
   ]
  },
  {
   "cell_type": "code",
   "execution_count": 242,
   "metadata": {},
   "outputs": [
    {
     "name": "stdout",
     "output_type": "stream",
     "text": [
      "Validated 9222 files\n"
     ]
    }
   ],
   "source": [
    "training_generator, validation_generator = image_generator(dataframe, \"value_samples\", 64)"
   ]
  },
  {
   "cell_type": "code",
   "execution_count": 243,
   "metadata": {},
   "outputs": [
    {
     "name": "stdout",
     "output_type": "stream",
     "text": [
      "Epoch 1/10\n",
      "122/122 [==============================] - 5s 41ms/step - loss: 2.4151 - accuracy: 0.9688 - val_loss: 2.5501 - val_accuracy: 0.9717\n",
      "Epoch 2/10\n",
      "122/122 [==============================] - 5s 37ms/step - loss: 2.4135 - accuracy: 0.9647 - val_loss: 2.5523 - val_accuracy: 0.9688\n",
      "Epoch 3/10\n",
      "122/122 [==============================] - 5s 38ms/step - loss: 2.4126 - accuracy: 0.9698 - val_loss: 2.5485 - val_accuracy: 0.9747\n",
      "Epoch 4/10\n",
      "122/122 [==============================] - 5s 37ms/step - loss: 2.4129 - accuracy: 0.9663 - val_loss: 2.5492 - val_accuracy: 0.9747\n",
      "Epoch 5/10\n",
      "122/122 [==============================] - 5s 38ms/step - loss: 2.4116 - accuracy: 0.9739 - val_loss: 2.5541 - val_accuracy: 0.9717\n",
      "Epoch 6/10\n",
      "122/122 [==============================] - 5s 38ms/step - loss: 2.4119 - accuracy: 0.9728 - val_loss: 2.5483 - val_accuracy: 0.9650\n",
      "Epoch 7/10\n",
      "122/122 [==============================] - 5s 38ms/step - loss: 2.4114 - accuracy: 0.9718 - val_loss: 2.5504 - val_accuracy: 0.9732\n",
      "Epoch 8/10\n",
      "122/122 [==============================] - 5s 41ms/step - loss: 2.4120 - accuracy: 0.9736 - val_loss: 2.5480 - val_accuracy: 0.9762\n",
      "Epoch 9/10\n",
      "122/122 [==============================] - 6s 49ms/step - loss: 2.4119 - accuracy: 0.9750 - val_loss: 2.5471 - val_accuracy: 0.9702\n",
      "Epoch 10/10\n",
      "122/122 [==============================] - 6s 51ms/step - loss: 2.4105 - accuracy: 0.9743 - val_loss: 2.5469 - val_accuracy: 0.9754\n"
     ]
    },
    {
     "data": {
      "text/plain": [
       "<keras.callbacks.callbacks.History at 0x27678bb6898>"
      ]
     },
     "execution_count": 243,
     "metadata": {},
     "output_type": "execute_result"
    }
   ],
   "source": [
    "steps_per_epoch = training_generator.n//training_generator.batch_size\n",
    "validation_steps = validation_generator.n//validation_generator.batch_size\n",
    "\n",
    "model.fit_generator(\n",
    "    generator=training_generator,\n",
    "    steps_per_epoch=steps_per_epoch,\n",
    "    validation_data=validation_generator,\n",
    "    validation_steps=validation_steps,\n",
    "    epochs=10,\n",
    ")"
   ]
  },
  {
   "cell_type": "code",
   "execution_count": 185,
   "metadata": {},
   "outputs": [],
   "source": [
    "def prediction_to_digit(prediction):\n",
    "    is_single_digit = np.argmax(prediction[0:2]) == 1\n",
    "    \n",
    "    left_digit = np.argmax(prediction[2:2+10])\n",
    "    right_digit = np.argmax(prediction[2+10:2+10+10])\n",
    "\n",
    "    if is_single_digit:\n",
    "        return f\"{right_digit}\"\n",
    "    else:\n",
    "        return f\"{left_digit}{right_digit}\""
   ]
  },
  {
   "cell_type": "code",
   "execution_count": 244,
   "metadata": {},
   "outputs": [
    {
     "data": {
      "image/png": "[encoded data removed]",
      "text/plain": [
       "<Figure size 432x288 with 1 Axes>"
      ]
     },
     "metadata": {
      "needs_background": "light"
     },
     "output_type": "display_data"
    }
   ],
   "source": [
    "testing_dir = \"value_samples\"\n",
    "testing_dataframe = pd.read_csv(f\"{testing_dir}/labels.txt\", delim_whitespace=True)\n",
    "\n",
    "total_samples = 0\n",
    "total_correct = 0\n",
    "\n",
    "for i, row in testing_dataframe.iterrows():\n",
    "    filename = row['filename']\n",
    "    total_digits = row['total_digits']\n",
    "    left_digit = row['left_digit']\n",
    "    right_digit = row['right_digit']\n",
    "    \n",
    "    if total_digits == 1:\n",
    "        digit = f\"{right_digit}\"\n",
    "    else:\n",
    "        digit = f\"{left_digit}{right_digit}\"\n",
    "    \n",
    "    filepath = f\"{testing_dir}/{filename}\"\n",
    "    if not os.path.exists(filepath):\n",
    "        continue\n",
    "\n",
    "    image = cv2.imread(filepath)\n",
    "    image = image/255\n",
    "\n",
    "    prediction = model.predict(np.array([image]))[0]\n",
    "    predicted_string = prediction_to_digit(prediction)\n",
    "    \n",
    "    total_samples += 1\n",
    "    \n",
    "    if predicted_string != digit:\n",
    "        plt.title(f\"File {filename},  Expected {digit}, Predicted {predicted_string} \"+\n",
    "                  f\"Accuracy so far: {total_correct}/{total_samples} @ {total_correct/total_samples * 100:.2f}%\")\n",
    "        plt.imshow(image)\n",
    "        plt.show()\n",
    "    else:\n",
    "        total_correct += 1"
   ]
  },
  {
   "cell_type": "code",
   "execution_count": 245,
   "metadata": {},
   "outputs": [],
   "source": [
    "model.save(\"two_digit_classifier.h5\")"
   ]
  },
  {
   "cell_type": "code",
   "execution_count": 246,
   "metadata": {},
   "outputs": [],
   "source": [
    "model.save(\"../assets/models/two_digit_classifier.h5\")"
   ]
  },
  {
   "cell_type": "code",
   "execution_count": null,
   "metadata": {},
   "outputs": [],
   "source": []
  }
 ],
 "metadata": {
  "kernelspec": {
   "display_name": "Python 3",
   "language": "python",
   "name": "python3"
  },
  "language_info": {
   "codemirror_mode": {
    "name": "ipython",
    "version": 3
   },
   "file_extension": ".py",
   "mimetype": "text/x-python",
   "name": "python",
   "nbconvert_exporter": "python",
   "pygments_lexer": "ipython3",
   "version": "3.7.3"
  }
 },
 "nbformat": 4,
 "nbformat_minor": 2
}
