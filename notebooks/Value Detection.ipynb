{
 "cells": [
  {
   "cell_type": "code",
   "execution_count": 2,
   "metadata": {},
   "outputs": [
    {
     "name": "stderr",
     "output_type": "stream",
     "text": [
      "Using TensorFlow backend.\n"
     ]
    }
   ],
   "source": [
    "import numpy as np\n",
    "import os\n",
    "from keras.preprocessing.image import ImageDataGenerator\n",
    "from keras import regularizers, optimizers\n",
    "import pandas as pd"
   ]
  },
  {
   "cell_type": "code",
   "execution_count": 3,
   "metadata": {},
   "outputs": [],
   "source": [
    "import matplotlib\n",
    "import matplotlib.pyplot as plt\n",
    "import cv2\n",
    "import scipy\n",
    "matplotlib.rcParams['figure.figsize'] = [15, 15]"
   ]
  },
  {
   "cell_type": "code",
   "execution_count": 4,
   "metadata": {},
   "outputs": [],
   "source": [
    "import keras\n",
    "from keras.layers import Dense, Activation, Flatten, Dropout, BatchNormalization, Input, Softmax\n",
    "from keras.layers import Conv2D, MaxPooling2D, SeparableConv2D\n",
    "from keras.layers import LeakyReLU"
   ]
  },
  {
   "cell_type": "code",
   "execution_count": 5,
   "metadata": {},
   "outputs": [],
   "source": [
    "target_shape = (17, 22)"
   ]
  },
  {
   "cell_type": "code",
   "execution_count": 6,
   "metadata": {},
   "outputs": [
    {
     "name": "stdout",
     "output_type": "stream",
     "text": [
      "WARNING:tensorflow:From C:\\tools\\Anaconda3\\lib\\site-packages\\keras\\backend\\tensorflow_backend.py:4070: The name tf.nn.max_pool is deprecated. Please use tf.nn.max_pool2d instead.\n",
      "\n"
     ]
    }
   ],
   "source": [
    "input_shape = (17, 22, 3)\n",
    "alpha = 0.2\n",
    "\n",
    "inputs = Input(shape=input_shape)\n",
    "\n",
    "x = Conv2D(8, (3, 3))(inputs)\n",
    "x = LeakyReLU(alpha)(x)\n",
    "x = MaxPooling2D((2, 2))(x)\n",
    "\n",
    "x = Conv2D(16, (3, 3))(inputs)\n",
    "x = LeakyReLU(alpha)(x)\n",
    "x = MaxPooling2D((2, 2))(x)\n",
    "\n",
    "x = Conv2D(32, (3, 3))(x)\n",
    "x = LeakyReLU(alpha)(x)\n",
    "x = MaxPooling2D((2, 2))(x)\n",
    "\n",
    "x = Flatten()(x)\n",
    "\n",
    "x = Dense(64)(x)\n",
    "x = LeakyReLU(alpha)(x)\n",
    "\n",
    "x = Dense(32)(x)\n",
    "x = LeakyReLU(alpha)(x)\n",
    "\n",
    "x = Dense(10, activation=\"softmax\")(x)\n",
    "outputs = x\n",
    "\n",
    "model = keras.Model(inputs=inputs, outputs=outputs)\n",
    "model.compile(\n",
    "    optimizer=keras.optimizers.Adam(lr=0.0001),\n",
    "    loss=\"categorical_crossentropy\",\n",
    "    metrics=[\"accuracy\"])"
   ]
  },
  {
   "cell_type": "code",
   "execution_count": 7,
   "metadata": {},
   "outputs": [],
   "source": [
    "image_gen = ImageDataGenerator(validation_split=0.15, rescale=1.0/255.0, width_shift_range=4, height_shift_range=2, zoom_range=0.1)\n",
    "dataframe = pd.read_csv(\"../assets/data/values/labels.txt\", delim_whitespace=True)\n",
    "digit_filter = (dataframe['category'] >= 0) & (dataframe['category'] <= 9)\n",
    "dataframe = dataframe[digit_filter]\n",
    "dataframe = dataframe.astype(str)"
   ]
  },
  {
   "cell_type": "code",
   "execution_count": 8,
   "metadata": {},
   "outputs": [
    {
     "name": "stdout",
     "output_type": "stream",
     "text": [
      "Found 5193 validated image filenames belonging to 10 classes.\n"
     ]
    }
   ],
   "source": [
    "training_generator = image_gen.flow_from_dataframe(\n",
    "    dataframe=dataframe, \n",
    "    directory=\"../assets/data/values/\",\n",
    "    x_col=\"filename\",\n",
    "    y_col=\"category\",\n",
    "    subset=\"training\",\n",
    "    batch_size=20,\n",
    "    classes=[str(i) for i in range(0,10)],\n",
    "    class_mode=\"categorical\",\n",
    "    shuffle=True,\n",
    "    target_size=target_shape\n",
    ")"
   ]
  },
  {
   "cell_type": "code",
   "execution_count": 9,
   "metadata": {},
   "outputs": [
    {
     "name": "stdout",
     "output_type": "stream",
     "text": [
      "Found 916 validated image filenames belonging to 10 classes.\n"
     ]
    }
   ],
   "source": [
    "validation_generator = image_gen.flow_from_dataframe(\n",
    "    dataframe=dataframe, \n",
    "    directory=\"../assets/data/values/\",\n",
    "    x_col=\"filename\",\n",
    "    y_col=\"category\",\n",
    "    subset=\"validation\",\n",
    "    batch_size=20,\n",
    "    classes=[str(i) for i in range(0,10)],    \n",
    "    class_mode=\"categorical\",\n",
    "    shuffle=True,\n",
    "    target_size=target_shape\n",
    ")"
   ]
  },
  {
   "cell_type": "code",
   "execution_count": 65,
   "metadata": {},
   "outputs": [
    {
     "name": "stdout",
     "output_type": "stream",
     "text": [
      "Model: \"model_6\"\n",
      "_________________________________________________________________\n",
      "Layer (type)                 Output Shape              Param #   \n",
      "=================================================================\n",
      "input_8 (InputLayer)         (None, 17, 22, 3)         0         \n",
      "_________________________________________________________________\n",
      "conv2d_18 (Conv2D)           (None, 15, 20, 16)        448       \n",
      "_________________________________________________________________\n",
      "leaky_re_lu_27 (LeakyReLU)   (None, 15, 20, 16)        0         \n",
      "_________________________________________________________________\n",
      "max_pooling2d_18 (MaxPooling (None, 7, 10, 16)         0         \n",
      "_________________________________________________________________\n",
      "conv2d_19 (Conv2D)           (None, 5, 8, 32)          4640      \n",
      "_________________________________________________________________\n",
      "leaky_re_lu_28 (LeakyReLU)   (None, 5, 8, 32)          0         \n",
      "_________________________________________________________________\n",
      "max_pooling2d_19 (MaxPooling (None, 2, 4, 32)          0         \n",
      "_________________________________________________________________\n",
      "flatten_6 (Flatten)          (None, 256)               0         \n",
      "_________________________________________________________________\n",
      "dense_15 (Dense)             (None, 64)                16448     \n",
      "_________________________________________________________________\n",
      "leaky_re_lu_29 (LeakyReLU)   (None, 64)                0         \n",
      "_________________________________________________________________\n",
      "dense_16 (Dense)             (None, 32)                2080      \n",
      "_________________________________________________________________\n",
      "leaky_re_lu_30 (LeakyReLU)   (None, 32)                0         \n",
      "_________________________________________________________________\n",
      "dense_17 (Dense)             (None, 10)                330       \n",
      "=================================================================\n",
      "Total params: 23,946\n",
      "Trainable params: 23,946\n",
      "Non-trainable params: 0\n",
      "_________________________________________________________________\n"
     ]
    }
   ],
   "source": [
    "model.summary()"
   ]
  },
  {
   "cell_type": "code",
   "execution_count": 67,
   "metadata": {},
   "outputs": [
    {
     "name": "stdout",
     "output_type": "stream",
     "text": [
      "Epoch 1/15\n",
      "253/253 [==============================] - 6s 24ms/step - loss: 0.2838 - accuracy: 0.9190 - val_loss: 0.4014 - val_accuracy: 0.9170\n",
      "Epoch 2/15\n",
      "253/253 [==============================] - 7s 29ms/step - loss: 0.2640 - accuracy: 0.9226 - val_loss: 0.1134 - val_accuracy: 0.9199\n",
      "Epoch 3/15\n",
      "253/253 [==============================] - 7s 27ms/step - loss: 0.2444 - accuracy: 0.9299 - val_loss: 0.2336 - val_accuracy: 0.9199\n",
      "Epoch 4/15\n",
      "253/253 [==============================] - 7s 27ms/step - loss: 0.2430 - accuracy: 0.9307 - val_loss: 0.2950 - val_accuracy: 0.9199\n",
      "Epoch 5/15\n",
      "253/253 [==============================] - 9s 36ms/step - loss: 0.2327 - accuracy: 0.9337 - val_loss: 0.2658 - val_accuracy: 0.9073\n",
      "Epoch 6/15\n",
      "253/253 [==============================] - 6s 25ms/step - loss: 0.2291 - accuracy: 0.9347 - val_loss: 0.1831 - val_accuracy: 0.9245\n",
      "Epoch 7/15\n",
      "253/253 [==============================] - 7s 29ms/step - loss: 0.2170 - accuracy: 0.9356 - val_loss: 0.2171 - val_accuracy: 0.9222\n",
      "Epoch 8/15\n",
      "253/253 [==============================] - 8s 31ms/step - loss: 0.2118 - accuracy: 0.9401 - val_loss: 0.1434 - val_accuracy: 0.9314\n",
      "Epoch 9/15\n",
      "253/253 [==============================] - 6s 25ms/step - loss: 0.1976 - accuracy: 0.9432 - val_loss: 0.7270 - val_accuracy: 0.9302\n",
      "Epoch 10/15\n",
      "253/253 [==============================] - 6s 25ms/step - loss: 0.1903 - accuracy: 0.9450 - val_loss: 0.3875 - val_accuracy: 0.9382\n",
      "Epoch 11/15\n",
      "253/253 [==============================] - 6s 25ms/step - loss: 0.1975 - accuracy: 0.9444 - val_loss: 0.0185 - val_accuracy: 0.9233\n",
      "Epoch 12/15\n",
      "253/253 [==============================] - 6s 25ms/step - loss: 0.1806 - accuracy: 0.9507 - val_loss: 0.2843 - val_accuracy: 0.9211\n",
      "Epoch 13/15\n",
      "253/253 [==============================] - 6s 25ms/step - loss: 0.1748 - accuracy: 0.9511 - val_loss: 0.2898 - val_accuracy: 0.9359\n",
      "Epoch 14/15\n",
      "253/253 [==============================] - 6s 25ms/step - loss: 0.1808 - accuracy: 0.9493 - val_loss: 0.2590 - val_accuracy: 0.9405\n",
      "Epoch 15/15\n",
      "253/253 [==============================] - 6s 25ms/step - loss: 0.1740 - accuracy: 0.9507 - val_loss: 0.0304 - val_accuracy: 0.9462\n"
     ]
    },
    {
     "data": {
      "text/plain": [
       "<keras.callbacks.callbacks.History at 0x2879ec80f28>"
      ]
     },
     "execution_count": 67,
     "metadata": {},
     "output_type": "execute_result"
    }
   ],
   "source": [
    "steps_per_epoch = training_generator.n//training_generator.batch_size\n",
    "validation_steps = validation_generator.n//validation_generator.batch_size\n",
    "\n",
    "model.fit_generator(\n",
    "    generator=training_generator,\n",
    "    steps_per_epoch=steps_per_epoch,\n",
    "    validation_data=validation_generator,\n",
    "    validation_steps=validation_steps,\n",
    "    epochs=15,\n",
    ")"
   ]
  },
  {
   "cell_type": "code",
   "execution_count": 1,
   "metadata": {},
   "outputs": [],
   "source": [
    "#model.save(\"values.h5\")\n",
    "#model.save(\"../assets/models/values.h5\")"
   ]
  },
  {
   "cell_type": "code",
   "execution_count": null,
   "metadata": {},
   "outputs": [],
   "source": []
  }
 ],
 "metadata": {
  "kernelspec": {
   "display_name": "Python 3",
   "language": "python",
   "name": "python3"
  },
  "language_info": {
   "codemirror_mode": {
    "name": "ipython",
    "version": 3
   },
   "file_extension": ".py",
   "mimetype": "text/x-python",
   "name": "python",
   "nbconvert_exporter": "python",
   "pygments_lexer": "ipython3",
   "version": "3.7.3"
  }
 },
 "nbformat": 4,
 "nbformat_minor": 2
}
