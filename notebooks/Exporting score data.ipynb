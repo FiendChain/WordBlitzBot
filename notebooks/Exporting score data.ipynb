{
 "cells": [
  {
   "cell_type": "code",
   "execution_count": 1,
   "metadata": {},
   "outputs": [],
   "source": [
    "import pandas as pd"
   ]
  },
  {
   "cell_type": "code",
   "execution_count": 6,
   "metadata": {},
   "outputs": [],
   "source": [
    "test_data = [\n",
    "    (104, 'mesost', [(1, 0), (2, 1), (2, 2), (1, 3), (1, 2), (0, 2)]),\n",
    "    (79, 'jatos', [(0, 0), (1, 1), (0, 2), (1, 3), (2, 2)]),\n",
    "    (78, 'meso', [(1, 0), (2, 1), (2, 2), (1, 3)]),\n",
    "    (72, 'amatols', [(2, 0), (1, 0), (1, 1), (0, 2), (1, 3), (0, 3), (1, 2)]),\n",
    "    (69, 'loiasis', [(0, 3), (1, 3), (2, 3), (3, 3), (2, 2), (3, 1), (3, 0)]),\n",
    "    (65, 'amatol', [(2, 0), (1, 0), (1, 1), (0, 2), (1, 3), (0, 3)]),\n",
    "    (63, 'james', [(0, 0), (1, 1), (1, 0), (2, 1), (2, 2)]),\n",
    "    (60, 'losses', [(0, 3), (1, 3), (1, 2), (2, 2), (2, 1), (3, 0)])]"
   ]
  },
  {
   "cell_type": "code",
   "execution_count": 7,
   "metadata": {},
   "outputs": [],
   "source": [
    "dataframe = pd.DataFrame(test_data, columns=[\"score\", \"word\", \"path\"])"
   ]
  },
  {
   "cell_type": "code",
   "execution_count": 12,
   "metadata": {},
   "outputs": [],
   "source": [
    "dataframe.to_csv(\"test_data_scores.csv\", sep=\" \")"
   ]
  },
  {
   "cell_type": "code",
   "execution_count": 13,
   "metadata": {},
   "outputs": [
    {
     "data": {
      "text/html": [
       "<div>\n",
       "<style scoped>\n",
       "    .dataframe tbody tr th:only-of-type {\n",
       "        vertical-align: middle;\n",
       "    }\n",
       "\n",
       "    .dataframe tbody tr th {\n",
       "        vertical-align: top;\n",
       "    }\n",
       "\n",
       "    .dataframe thead th {\n",
       "        text-align: right;\n",
       "    }\n",
       "</style>\n",
       "<table border=\"1\" class=\"dataframe\">\n",
       "  <thead>\n",
       "    <tr style=\"text-align: right;\">\n",
       "      <th></th>\n",
       "      <th>score</th>\n",
       "      <th>word</th>\n",
       "      <th>path</th>\n",
       "    </tr>\n",
       "  </thead>\n",
       "  <tbody>\n",
       "    <tr>\n",
       "      <th>0</th>\n",
       "      <td>104</td>\n",
       "      <td>mesost</td>\n",
       "      <td>[(1, 0), (2, 1), (2, 2), (1, 3), (1, 2), (0, 2)]</td>\n",
       "    </tr>\n",
       "    <tr>\n",
       "      <th>1</th>\n",
       "      <td>79</td>\n",
       "      <td>jatos</td>\n",
       "      <td>[(0, 0), (1, 1), (0, 2), (1, 3), (2, 2)]</td>\n",
       "    </tr>\n",
       "    <tr>\n",
       "      <th>2</th>\n",
       "      <td>78</td>\n",
       "      <td>meso</td>\n",
       "      <td>[(1, 0), (2, 1), (2, 2), (1, 3)]</td>\n",
       "    </tr>\n",
       "    <tr>\n",
       "      <th>3</th>\n",
       "      <td>72</td>\n",
       "      <td>amatols</td>\n",
       "      <td>[(2, 0), (1, 0), (1, 1), (0, 2), (1, 3), (0, 3...</td>\n",
       "    </tr>\n",
       "    <tr>\n",
       "      <th>4</th>\n",
       "      <td>69</td>\n",
       "      <td>loiasis</td>\n",
       "      <td>[(0, 3), (1, 3), (2, 3), (3, 3), (2, 2), (3, 1...</td>\n",
       "    </tr>\n",
       "    <tr>\n",
       "      <th>5</th>\n",
       "      <td>65</td>\n",
       "      <td>amatol</td>\n",
       "      <td>[(2, 0), (1, 0), (1, 1), (0, 2), (1, 3), (0, 3)]</td>\n",
       "    </tr>\n",
       "    <tr>\n",
       "      <th>6</th>\n",
       "      <td>63</td>\n",
       "      <td>james</td>\n",
       "      <td>[(0, 0), (1, 1), (1, 0), (2, 1), (2, 2)]</td>\n",
       "    </tr>\n",
       "    <tr>\n",
       "      <th>7</th>\n",
       "      <td>60</td>\n",
       "      <td>losses</td>\n",
       "      <td>[(0, 3), (1, 3), (1, 2), (2, 2), (2, 1), (3, 0)]</td>\n",
       "    </tr>\n",
       "  </tbody>\n",
       "</table>\n",
       "</div>"
      ],
      "text/plain": [
       "   score     word                                               path\n",
       "0    104   mesost   [(1, 0), (2, 1), (2, 2), (1, 3), (1, 2), (0, 2)]\n",
       "1     79    jatos           [(0, 0), (1, 1), (0, 2), (1, 3), (2, 2)]\n",
       "2     78     meso                   [(1, 0), (2, 1), (2, 2), (1, 3)]\n",
       "3     72  amatols  [(2, 0), (1, 0), (1, 1), (0, 2), (1, 3), (0, 3...\n",
       "4     69  loiasis  [(0, 3), (1, 3), (2, 3), (3, 3), (2, 2), (3, 1...\n",
       "5     65   amatol   [(2, 0), (1, 0), (1, 1), (0, 2), (1, 3), (0, 3)]\n",
       "6     63    james           [(0, 0), (1, 1), (1, 0), (2, 1), (2, 2)]\n",
       "7     60   losses   [(0, 3), (1, 3), (1, 2), (2, 2), (2, 1), (3, 0)]"
      ]
     },
     "execution_count": 13,
     "metadata": {},
     "output_type": "execute_result"
    }
   ],
   "source": [
    "pd.read_csv(\"test_data_scores.csv\", delim_whitespace=True)"
   ]
  },
  {
   "cell_type": "code",
   "execution_count": null,
   "metadata": {},
   "outputs": [],
   "source": []
  }
 ],
 "metadata": {
  "kernelspec": {
   "display_name": "Python 3",
   "language": "python",
   "name": "python3"
  },
  "language_info": {
   "codemirror_mode": {
    "name": "ipython",
    "version": 3
   },
   "file_extension": ".py",
   "mimetype": "text/x-python",
   "name": "python",
   "nbconvert_exporter": "python",
   "pygments_lexer": "ipython3",
   "version": "3.7.3"
  }
 },
 "nbformat": 4,
 "nbformat_minor": 2
}
