{
 "cells": [
  {
   "cell_type": "code",
   "execution_count": 7,
   "metadata": {},
   "outputs": [],
   "source": [
    "import os\n",
    "import pickle\n",
    "from timeit import default_timer"
   ]
  },
  {
   "cell_type": "code",
   "execution_count": 15,
   "metadata": {},
   "outputs": [
    {
     "name": "stdout",
     "output_type": "stream",
     "text": [
      "Took 0.38 s\n"
     ]
    }
   ],
   "source": [
    "word_dict = {}\n",
    "with open(\"../assets\\dictionaries/full_dictionary.txt\", \"r\") as f:\n",
    "    start =  default_timer()\n",
    "    for i, line in enumerate(f.readlines()):\n",
    "        line = line.strip()\n",
    "        word_dict[line] = True\n",
    "    end = default_timer()\n",
    "    print(f\"Took {end-start:.2f} s\")"
   ]
  },
  {
   "cell_type": "code",
   "execution_count": 18,
   "metadata": {},
   "outputs": [],
   "source": [
    "# fast loading, but slow search (need to create a word tree from this)"
   ]
  },
  {
   "cell_type": "code",
   "execution_count": 62,
   "metadata": {},
   "outputs": [],
   "source": [
    "class WordTree:\n",
    "    def __init__(self, parent=None):\n",
    "        self.leafs = {}\n",
    "        self.word = False\n",
    "        self.parent = parent\n",
    "\n",
    "    def add_word(self, word):\n",
    "        self.attach_word(word)\n",
    "\n",
    "    def attach_word(self, word):\n",
    "        if not word:\n",
    "            return\n",
    "\n",
    "        head = word[0]\n",
    "        body = word[1:]\n",
    "        child = self.leafs.setdefault(head, WordTree(parent=self))\n",
    "        if body:\n",
    "            child.attach_word(body)\n",
    "        else:\n",
    "            child.word = True\n",
    "    \n",
    "    def get_leaf(self, word):\n",
    "        # if word is empty, check if this leaf is a word\n",
    "        if not word:\n",
    "            return self.word\n",
    "\n",
    "        head = word[0]\n",
    "        body = word[1:]\n",
    "        \n",
    "        child = self.leafs.get(head, None)\n",
    "        if not child:\n",
    "            return False\n",
    "        \n",
    "        return child.get_leaf(body)"
   ]
  },
  {
   "cell_type": "code",
   "execution_count": 58,
   "metadata": {},
   "outputs": [
    {
     "name": "stdout",
     "output_type": "stream",
     "text": [
      "Took 8.01 s\n"
     ]
    }
   ],
   "source": [
    "word_tree = WordTree()\n",
    "lines = []\n",
    "with open(\"../assets\\dictionaries/compact_dictionary.txt\", \"r\") as f:\n",
    "    start =  default_timer()\n",
    "    for i, line in enumerate(f.readlines()):\n",
    "        line = line.strip()\n",
    "        lines.append(line)\n",
    "        word_tree.add_word(line)\n",
    "    end = default_timer()\n",
    "    print(f\"Took {end-start:.2f} s\")"
   ]
  },
  {
   "cell_type": "code",
   "execution_count": 59,
   "metadata": {},
   "outputs": [],
   "source": [
    "class WordTreeSerialiser:\n",
    "    def serialise(self, tree):\n",
    "        tokens = self.tokenise(tree)\n",
    "        return ''.join(tokens)\n",
    "    \n",
    "    def tokenise(self, tree):\n",
    "        string = []\n",
    "            \n",
    "        if tree.word:\n",
    "            string.append(\"*\")\n",
    "            \n",
    "        for char, leaf in tree.leafs.items():\n",
    "            string.append(char)\n",
    "            leaf_string = self.serialise(leaf)\n",
    "            string.extend(leaf_string)\n",
    "            string.append(\"<\")\n",
    "        \n",
    "        return string        "
   ]
  },
  {
   "cell_type": "code",
   "execution_count": 60,
   "metadata": {},
   "outputs": [],
   "source": [
    "serialiser = WordTreeSerialiser()\n",
    "string = serialiser.serialise(word_tree)"
   ]
  },
  {
   "cell_type": "code",
   "execution_count": 61,
   "metadata": {},
   "outputs": [
    {
     "name": "stdout",
     "output_type": "stream",
     "text": [
      "2143905\n",
      "3011338\n"
     ]
    }
   ],
   "source": [
    "print(len(string))\n",
    "print(sum((len(line) for line in lines)))"
   ]
  },
  {
   "cell_type": "code",
   "execution_count": 68,
   "metadata": {},
   "outputs": [],
   "source": [
    "class WordTreeLoader:\n",
    "    def load(self, string):\n",
    "        tree = WordTree()\n",
    "        base = tree\n",
    "        \n",
    "        for i, token in enumerate(string):\n",
    "            if token == '*':\n",
    "                base.word = True\n",
    "            elif token == '<':\n",
    "                base = base.parent\n",
    "            elif token.isalpha():\n",
    "                child = WordTree(base)\n",
    "                base.leafs.setdefault(token, child)\n",
    "                base = child\n",
    "            else:\n",
    "                print(f\"Unknown token: {token}\")\n",
    "            \n",
    "            if base is None:\n",
    "                print(f\"Ended at {i}: {string[i:]}\")\n",
    "                break\n",
    "\n",
    "        return tree"
   ]
  },
  {
   "cell_type": "code",
   "execution_count": 70,
   "metadata": {},
   "outputs": [
    {
     "name": "stdout",
     "output_type": "stream",
     "text": [
      "Took 4.58s\n"
     ]
    }
   ],
   "source": [
    "start = default_timer()\n",
    "loader = WordTreeLoader()\n",
    "word_tree = loader.load(string)\n",
    "end = default_timer()\n",
    "print(f\"Took {end-start:.2f}s\")"
   ]
  },
  {
   "cell_type": "code",
   "execution_count": 74,
   "metadata": {},
   "outputs": [
    {
     "data": {
      "text/plain": [
       "True"
      ]
     },
     "execution_count": 74,
     "metadata": {},
     "output_type": "execute_result"
    }
   ],
   "source": [
    "word_tree.get_leaf(\"hello\")"
   ]
  },
  {
   "cell_type": "code",
   "execution_count": 77,
   "metadata": {},
   "outputs": [
    {
     "name": "stdout",
     "output_type": "stream",
     "text": [
      "Took 1.88 s\n"
     ]
    }
   ],
   "source": [
    "# store as branch(string): isword(bool)\n",
    "# if branch exist, if word\n",
    "dictionary = {}\n",
    "with open(\"../assets\\dictionaries/compact_dictionary.txt\", \"r\") as f:\n",
    "    start =  default_timer()\n",
    "    for line in f.readlines():\n",
    "        line = line.strip()\n",
    "        lines.append(line)\n",
    "        \n",
    "        for i, char in enumerate(line):\n",
    "            dictionary.setdefault(line[:i], False)\n",
    "        \n",
    "        # override branch if word\n",
    "        dictionary[line] = True\n",
    "        \n",
    "    end = default_timer()\n",
    "    print(f\"Took {end-start:.2f} s\")"
   ]
  },
  {
   "cell_type": "code",
   "execution_count": 91,
   "metadata": {},
   "outputs": [],
   "source": [
    "with open('dictionary.pickle', 'wb') as f:\n",
    "    # Pickle the 'data' dictionary using the highest protocol available.\n",
    "    pickle.dump(dictionary, f, pickle.HIGHEST_PROTOCOL)"
   ]
  },
  {
   "cell_type": "code",
   "execution_count": 96,
   "metadata": {},
   "outputs": [
    {
     "name": "stdout",
     "output_type": "stream",
     "text": [
      "Took 0.45s\n"
     ]
    }
   ],
   "source": [
    "start = default_timer()\n",
    "with open('dictionary.pickle', 'rb') as f:\n",
    "    loaded_dict = pickle.load(f)\n",
    "end = default_timer()\n",
    "print(f\"Took {end-start:.2f}s\")"
   ]
  },
  {
   "cell_type": "code",
   "execution_count": null,
   "metadata": {},
   "outputs": [],
   "source": []
  }
 ],
 "metadata": {
  "kernelspec": {
   "display_name": "Python 3",
   "language": "python",
   "name": "python3"
  },
  "language_info": {
   "codemirror_mode": {
    "name": "ipython",
    "version": 3
   },
   "file_extension": ".py",
   "mimetype": "text/x-python",
   "name": "python",
   "nbconvert_exporter": "python",
   "pygments_lexer": "ipython3",
   "version": "3.7.3"
  }
 },
 "nbformat": 4,
 "nbformat_minor": 2
}
