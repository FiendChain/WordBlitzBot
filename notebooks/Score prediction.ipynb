{
 "cells": [
  {
   "cell_type": "code",
   "execution_count": 6,
   "metadata": {},
   "outputs": [],
   "source": [
    "import os\n",
    "import pandas as pd\n",
    "import cv2\n",
    "import lxml.html"
   ]
  },
  {
   "cell_type": "code",
   "execution_count": 7,
   "metadata": {},
   "outputs": [],
   "source": [
    "folder = 0\n",
    "filepath = f\"score_prediction/{folder}\"\n",
    "\n",
    "image = cv2.imread(f\"{filepath}/sample.png\")\n",
    "paths_df = pd.read_csv(f\"{filepath}/paths.csv\", delim_whitespace=True)\n",
    "matrix_df = pd.read_csv(f\"{filepath}/matrix.csv\", delim_whitespace=True)"
   ]
  },
  {
   "cell_type": "code",
   "execution_count": 34,
   "metadata": {},
   "outputs": [],
   "source": [
    "# open as html\n",
    "with open(f\"{filepath}/results.html\", \"r\") as f:\n",
    "    results_html_string = f.read()\n",
    "    results_html = lxml.html.fromstring(results_html_string)\n",
    "    \n",
    "# fetch scores\n",
    "scores = []\n",
    "rows = results_html.cssselect(\"div.points-result\")[0]\n",
    "for row in rows:\n",
    "    word = row.cssselect(\"div.word\")[0].text_content()\n",
    "    points = row.cssselect(\"div.points\")[0].cssselect(\"div.left\")[0].text_content()\n",
    "    scores.append((word, points))"
   ]
  },
  {
   "cell_type": "code",
   "execution_count": 35,
   "metadata": {},
   "outputs": [],
   "source": [
    "score_df = pd.DataFrame(scores, columns=[\"word\", \"points\"])\n",
    "score_df.to_csv(f\"{filepath}/actual_scores.csv\", sep=\" \")"
   ]
  },
  {
   "cell_type": "code",
   "execution_count": 38,
   "metadata": {},
   "outputs": [],
   "source": [
    "class Cell:\n",
    "    def __init__(self):\n",
    "        self.value = 0\n",
    "        self.char = \"\"\n",
    "        self.bonus = \"\""
   ]
  },
  {
   "cell_type": "code",
   "execution_count": null,
   "metadata": {},
   "outputs": [],
   "source": [
    "def construct_matrix(matrix_df):\n",
    "    cells = [Cell() for _ in range(16)]\n",
    "    cells = np.array(cells).reshape((4, 4))\n",
    "    \n",
    "    "
   ]
  }
 ],
 "metadata": {
  "kernelspec": {
   "display_name": "Python 3",
   "language": "python",
   "name": "python3"
  },
  "language_info": {
   "codemirror_mode": {
    "name": "ipython",
    "version": 3
   },
   "file_extension": ".py",
   "mimetype": "text/x-python",
   "name": "python",
   "nbconvert_exporter": "python",
   "pygments_lexer": "ipython3",
   "version": "3.7.3"
  }
 },
 "nbformat": 4,
 "nbformat_minor": 2
}
