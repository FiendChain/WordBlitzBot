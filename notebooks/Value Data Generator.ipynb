{
 "cells": [
  {
   "cell_type": "code",
   "execution_count": 1,
   "metadata": {},
   "outputs": [],
   "source": [
    "import matplotlib\n",
    "import matplotlib.pyplot as plt\n",
    "import cv2\n",
    "import scipy\n",
    "matplotlib.rcParams['figure.figsize'] = [15, 15]"
   ]
  },
  {
   "cell_type": "code",
   "execution_count": 2,
   "metadata": {},
   "outputs": [],
   "source": [
    "import numpy as np\n",
    "import os\n",
    "import pandas as pd"
   ]
  },
  {
   "cell_type": "code",
   "execution_count": 3,
   "metadata": {},
   "outputs": [],
   "source": [
    "dataframe = pd.read_csv(\"values/labels.txt\", delim_whitespace=True)"
   ]
  },
  {
   "cell_type": "code",
   "execution_count": 4,
   "metadata": {},
   "outputs": [
    {
     "data": {
      "text/html": [
       "<div>\n",
       "<style scoped>\n",
       "    .dataframe tbody tr th:only-of-type {\n",
       "        vertical-align: middle;\n",
       "    }\n",
       "\n",
       "    .dataframe tbody tr th {\n",
       "        vertical-align: top;\n",
       "    }\n",
       "\n",
       "    .dataframe thead th {\n",
       "        text-align: right;\n",
       "    }\n",
       "</style>\n",
       "<table border=\"1\" class=\"dataframe\">\n",
       "  <thead>\n",
       "    <tr style=\"text-align: right;\">\n",
       "      <th></th>\n",
       "      <th>filename</th>\n",
       "      <th>category</th>\n",
       "    </tr>\n",
       "  </thead>\n",
       "  <tbody>\n",
       "    <tr>\n",
       "      <th>0</th>\n",
       "      <td>0.png</td>\n",
       "      <td>0</td>\n",
       "    </tr>\n",
       "    <tr>\n",
       "      <th>1</th>\n",
       "      <td>1.png</td>\n",
       "      <td>1</td>\n",
       "    </tr>\n",
       "    <tr>\n",
       "      <th>2</th>\n",
       "      <td>2.png</td>\n",
       "      <td>2</td>\n",
       "    </tr>\n",
       "    <tr>\n",
       "      <th>3</th>\n",
       "      <td>3.png</td>\n",
       "      <td>3</td>\n",
       "    </tr>\n",
       "    <tr>\n",
       "      <th>4</th>\n",
       "      <td>4.png</td>\n",
       "      <td>4</td>\n",
       "    </tr>\n",
       "    <tr>\n",
       "      <th>5</th>\n",
       "      <td>5.png</td>\n",
       "      <td>5</td>\n",
       "    </tr>\n",
       "    <tr>\n",
       "      <th>6</th>\n",
       "      <td>6.png</td>\n",
       "      <td>6</td>\n",
       "    </tr>\n",
       "    <tr>\n",
       "      <th>7</th>\n",
       "      <td>7.png</td>\n",
       "      <td>7</td>\n",
       "    </tr>\n",
       "    <tr>\n",
       "      <th>8</th>\n",
       "      <td>8.png</td>\n",
       "      <td>8</td>\n",
       "    </tr>\n",
       "    <tr>\n",
       "      <th>9</th>\n",
       "      <td>9.png</td>\n",
       "      <td>9</td>\n",
       "    </tr>\n",
       "  </tbody>\n",
       "</table>\n",
       "</div>"
      ],
      "text/plain": [
       "  filename  category\n",
       "0    0.png         0\n",
       "1    1.png         1\n",
       "2    2.png         2\n",
       "3    3.png         3\n",
       "4    4.png         4\n",
       "5    5.png         5\n",
       "6    6.png         6\n",
       "7    7.png         7\n",
       "8    8.png         8\n",
       "9    9.png         9"
      ]
     },
     "execution_count": 4,
     "metadata": {},
     "output_type": "execute_result"
    }
   ],
   "source": [
    "dataframe"
   ]
  },
  {
   "cell_type": "code",
   "execution_count": 5,
   "metadata": {},
   "outputs": [],
   "source": [
    "canvas_size = (17, 22)"
   ]
  },
  {
   "cell_type": "code",
   "execution_count": 45,
   "metadata": {},
   "outputs": [
    {
     "data": {
      "image/png": "[encoded data removed]",
      "text/plain": [
       "<Figure size 432x288 with 1 Axes>"
      ]
     },
     "metadata": {
      "needs_background": "light"
     },
     "output_type": "display_data"
    },
    {
     "data": {
      "image/png": "[encoded data removed]",
      "text/plain": [
       "<Figure size 432x288 with 1 Axes>"
      ]
     },
     "metadata": {
      "needs_background": "light"
     },
     "output_type": "display_data"
    },
    {
     "data": {
      "image/png": "[encoded data removed]",
      "text/plain": [
       "<Figure size 432x288 with 1 Axes>"
      ]
     },
     "metadata": {
      "needs_background": "light"
     },
     "output_type": "display_data"
    },
    {
     "data": {
      "image/png": "[encoded data removed]",
      "text/plain": [
       "<Figure size 432x288 with 1 Axes>"
      ]
     },
     "metadata": {
      "needs_background": "light"
     },
     "output_type": "display_data"
    },
    {
     "data": {
      "image/png": "[encoded data removed]",
      "text/plain": [
       "<Figure size 432x288 with 1 Axes>"
      ]
     },
     "metadata": {
      "needs_background": "light"
     },
     "output_type": "display_data"
    },
    {
     "data": {
      "image/png": "[encoded data removed]",
      "text/plain": [
       "<Figure size 432x288 with 1 Axes>"
      ]
     },
     "metadata": {
      "needs_background": "light"
     },
     "output_type": "display_data"
    },
    {
     "data": {
      "image/png": "[encoded data removed]",
      "text/plain": [
       "<Figure size 432x288 with 1 Axes>"
      ]
     },
     "metadata": {
      "needs_background": "light"
     },
     "output_type": "display_data"
    },
    {
     "data": {
      "image/png": "[encoded data removed]",
      "text/plain": [
       "<Figure size 432x288 with 1 Axes>"
      ]
     },
     "metadata": {
      "needs_background": "light"
     },
     "output_type": "display_data"
    },
    {
     "data": {
      "image/png": "[encoded data removed]",
      "text/plain": [
       "<Figure size 432x288 with 1 Axes>"
      ]
     },
     "metadata": {
      "needs_background": "light"
     },
     "output_type": "display_data"
    },
    {
     "data": {
      "image/png": "[encoded data removed]",
      "text/plain": [
       "<Figure size 432x288 with 1 Axes>"
      ]
     },
     "metadata": {
      "needs_background": "light"
     },
     "output_type": "display_data"
    }
   ],
   "source": [
    "digits = []\n",
    "for i, row in dataframe.iterrows():\n",
    "    filename = row.get('filename')\n",
    "    digit = row.get('category')\n",
    "    image = cv2.imread(f\"values/{filename}\")\n",
    "    plt.imshow(image)\n",
    "    plt.show()\n",
    "    digits.append(image)"
   ]
  },
  {
   "cell_type": "code",
   "execution_count": 12,
   "metadata": {},
   "outputs": [],
   "source": [
    "# BGR\n",
    "background_colour = (235, 235, 235)"
   ]
  },
  {
   "cell_type": "code",
   "execution_count": 46,
   "metadata": {},
   "outputs": [
    {
     "name": "stdout",
     "output_type": "stream",
     "text": [
      "(13, 9, 3)\n",
      "(13, 8, 3)\n",
      "(13, 9, 3)\n",
      "(13, 8, 3)\n",
      "(13, 10, 3)\n",
      "(13, 8, 3)\n",
      "(13, 8, 3)\n",
      "(13, 9, 3)\n",
      "(13, 9, 3)\n",
      "(13, 8, 3)\n"
     ]
    }
   ],
   "source": [
    "for digit in digits:\n",
    "    print(digit.shape)"
   ]
  },
  {
   "cell_type": "code",
   "execution_count": 73,
   "metadata": {},
   "outputs": [],
   "source": [
    "def create_two_digit(n, x_spacing=0, y_offset=2):\n",
    "    canvas = np.full(canvas_size+(3,), background_colour)\n",
    "    \n",
    "    n_left = n //10\n",
    "    n_right = n - (n_left*10)\n",
    "    \n",
    "    digit_left = digits[n_left]\n",
    "    digit_right = digits[n_right]\n",
    "    \n",
    "    # width is 19 or 20\n",
    "    # target size is 22\n",
    "    # padding of 1 or 2\n",
    "    # choose 2\n",
    "    width = digit_left.shape[1] + digit_right.shape[1] + x_spacing\n",
    "    x_offset = (canvas.shape[1]-width)//2\n",
    "    \n",
    "    x_right = x_offset+digit_left.shape[1]\n",
    "    canvas[y_offset:y_offset+digit_left.shape[0], x_offset:x_right] = digit_left\n",
    "    canvas[y_offset:y_offset+digit_right.shape[0], x_spacing+x_right:x_spacing+x_right+digit_right.shape[1]] = digit_right\n",
    "    \n",
    "    return canvas"
   ]
  },
  {
   "cell_type": "code",
   "execution_count": 92,
   "metadata": {},
   "outputs": [],
   "source": [
    "save_dir = \"value_samples\"\n",
    "save_dir_labels = f\"{save_dir}/labels.txt\"\n",
    "headers = [\"filename\", \"total_digits\", \"left_digit\", \"right_digit\"]"
   ]
  },
  {
   "cell_type": "code",
   "execution_count": 101,
   "metadata": {},
   "outputs": [],
   "source": [
    "def generate_samples():\n",
    "    for i in range(100):\n",
    "        for x_pad in range(3):\n",
    "            for y_off in range(5):\n",
    "                sample = create_two_digit(i, x_pad, y_off)\n",
    "                left_digit = i//10\n",
    "                right_digit = i - (left_digit*10)\n",
    "                yield (sample, (2, left_digit, right_digit))"
   ]
  },
  {
   "cell_type": "code",
   "execution_count": 113,
   "metadata": {},
   "outputs": [],
   "source": [
    "def save_samples(samples, override=False):\n",
    "    mode = \"w\" if not os.path.exists(save_dir_labels) or override else \"a\"\n",
    "    write_header = override or not os.path.exists(save_dir_labels)\n",
    "    with open(f\"{save_dir}/labels.txt\", mode) as f:\n",
    "        if write_header:\n",
    "            f.write(\" \".join(headers)+\"\\n\")\n",
    "\n",
    "        i = 0\n",
    "        for sample, labels in samples:\n",
    "            filename = f\"{save_dir}/sample_{i}.png\"\n",
    "\n",
    "            while os.path.exists(filename):\n",
    "                i += 1\n",
    "                filename = f\"{save_dir}/sample_{i}.png\"\n",
    "\n",
    "            cv2.imwrite(filename, sample)\n",
    "            labels_str = \" \".join(map(str, labels))\n",
    "            f.write(f\"{filename} {labels_str}\\n\")"
   ]
  },
  {
   "cell_type": "code",
   "execution_count": 103,
   "metadata": {},
   "outputs": [],
   "source": [
    "def create_one_digit(n):\n",
    "    digit = digits[n]\n",
    "    \n",
    "    x_offset = canvas_size[1]-digit.shape[1]\n",
    "    y_offset = canvas_size[0]-digit.shape[0]\n",
    "    \n",
    "    for x_off in range(x_offset+1):\n",
    "        for y_off in range(y_offset+1):\n",
    "            canvas = np.full(canvas_size+(3,), background_colour)\n",
    "            canvas[y_off:y_off+digit.shape[0], x_off:x_off+digit.shape[1]] = digit\n",
    "            yield canvas"
   ]
  },
  {
   "cell_type": "code",
   "execution_count": 115,
   "metadata": {},
   "outputs": [],
   "source": [
    "def generate_single_digits():\n",
    "    for i in range(0, 10):\n",
    "        for sample in create_one_digit(i):\n",
    "            yield (sample, (1, 0, i))"
   ]
  },
  {
   "cell_type": "code",
   "execution_count": 116,
   "metadata": {},
   "outputs": [],
   "source": [
    "save_samples(generate_single_digits())"
   ]
  },
  {
   "cell_type": "code",
   "execution_count": null,
   "metadata": {},
   "outputs": [],
   "source": []
  }
 ],
 "metadata": {
  "kernelspec": {
   "display_name": "Python 3",
   "language": "python",
   "name": "python3"
  },
  "language_info": {
   "codemirror_mode": {
    "name": "ipython",
    "version": 3
   },
   "file_extension": ".py",
   "mimetype": "text/x-python",
   "name": "python",
   "nbconvert_exporter": "python",
   "pygments_lexer": "ipython3",
   "version": "3.7.3"
  }
 },
 "nbformat": 4,
 "nbformat_minor": 2
}
