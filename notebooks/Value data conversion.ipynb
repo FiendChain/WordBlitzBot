{
 "cells": [
  {
   "cell_type": "code",
   "execution_count": 1,
   "metadata": {},
   "outputs": [],
   "source": [
    "import matplotlib\n",
    "import matplotlib.pyplot as plt\n",
    "import cv2\n",
    "import scipy\n",
    "matplotlib.rcParams['figure.figsize'] = [15, 15]"
   ]
  },
  {
   "cell_type": "code",
   "execution_count": 2,
   "metadata": {},
   "outputs": [],
   "source": [
    "import numpy as np\n",
    "import os\n",
    "import pandas as pd"
   ]
  },
  {
   "cell_type": "code",
   "execution_count": 5,
   "metadata": {},
   "outputs": [],
   "source": [
    "src_dataframe = pd.read_csv(\"../assets/data/values/labels.txt\", delim_whitespace=True)"
   ]
  },
  {
   "cell_type": "code",
   "execution_count": 7,
   "metadata": {},
   "outputs": [],
   "source": [
    "converted_headers = [\"filename\", \"total_digits\", \"left_digit\", \"right_digit\"]\n",
    "converted_list = []\n",
    "for i, row in src_dataframe.iterrows():\n",
    "    filename = row['filename']\n",
    "    category = row['category']\n",
    "    if category >= 10:\n",
    "        left_digit = category//10\n",
    "        right_digit = category - (left_digit*10)\n",
    "        label = [2, left_digit, right_digit]\n",
    "    else:\n",
    "        label = [1, 0, category]\n",
    "    \n",
    "    converted_list.append([filename,]+label)\n"
   ]
  },
  {
   "cell_type": "code",
   "execution_count": 9,
   "metadata": {},
   "outputs": [],
   "source": [
    "with open(\"../assets/data/values/converted_labels.txt\", \"w\") as f:\n",
    "    f.write(\" \".join(converted_headers)+\"\\n\")\n",
    "    for row in converted_list:\n",
    "        string = \" \".join(map(str, row))\n",
    "        f.write(string+\"\\n\")"
   ]
  },
  {
   "cell_type": "code",
   "execution_count": 12,
   "metadata": {},
   "outputs": [],
   "source": [
    "with open(\"value_samples/labels.txt\", \"a\") as f:\n",
    "    i = 0\n",
    "    for row in converted_list:\n",
    "        filename = row[0]\n",
    "        data = row[1:]\n",
    "        \n",
    "        src_filepath = f\"../assets/data/values/{filename}\"\n",
    "        if not os.path.exists(src_filepath):\n",
    "            continue\n",
    "        \n",
    "        image = cv2.imread(src_filepath)\n",
    "        \n",
    "        dest_filepath = f\"value_samples/sample_{i}.png\"\n",
    "        \n",
    "        while os.path.exists(dest_filepath):\n",
    "            i += 1\n",
    "            dest_filepath = f\"value_samples/sample_{i}.png\"\n",
    "            \n",
    "        label = \" \".join(map(str, data))\n",
    "        \n",
    "        cv2.imwrite(dest_filepath, image)\n",
    "        f.write(f\"sample_{i}.png {label}\\n\")\n",
    "    \n",
    "    "
   ]
  },
  {
   "cell_type": "code",
   "execution_count": null,
   "metadata": {},
   "outputs": [],
   "source": []
  }
 ],
 "metadata": {
  "kernelspec": {
   "display_name": "Python 3",
   "language": "python",
   "name": "python3"
  },
  "language_info": {
   "codemirror_mode": {
    "name": "ipython",
    "version": 3
   },
   "file_extension": ".py",
   "mimetype": "text/x-python",
   "name": "python",
   "nbconvert_exporter": "python",
   "pygments_lexer": "ipython3",
   "version": "3.7.3"
  }
 },
 "nbformat": 4,
 "nbformat_minor": 2
}
