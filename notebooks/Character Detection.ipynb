{
 "cells": [
  {
   "cell_type": "code",
   "execution_count": 1,
   "metadata": {},
   "outputs": [
    {
     "name": "stderr",
     "output_type": "stream",
     "text": [
      "Using TensorFlow backend.\n"
     ]
    }
   ],
   "source": [
    "import numpy as np\n",
    "import os\n",
    "from keras.preprocessing.image import ImageDataGenerator\n",
    "from keras import regularizers, optimizers\n",
    "import pandas as pd"
   ]
  },
  {
   "cell_type": "code",
   "execution_count": 79,
   "metadata": {},
   "outputs": [],
   "source": [
    "import matplotlib\n",
    "import matplotlib.pyplot as plt\n",
    "import cv2\n",
    "import scipy\n",
    "matplotlib.rcParams['figure.figsize'] = [15, 15]"
   ]
  },
  {
   "cell_type": "code",
   "execution_count": 89,
   "metadata": {},
   "outputs": [],
   "source": [
    "import keras\n",
    "from keras.layers import Dense, Activation, Flatten, Dropout, BatchNormalization, Input, Softmax\n",
    "from keras.layers import Conv2D, MaxPooling2D, SeparableConv2D\n",
    "from keras.layers import LeakyReLU"
   ]
  },
  {
   "cell_type": "code",
   "execution_count": 121,
   "metadata": {},
   "outputs": [],
   "source": [
    "image_gen = ImageDataGenerator(validation_split=0.15, rescale=1.0/255.0, width_shift_range=4, height_shift_range=4, zoom_range=0.15)\n",
    "dataframe = pd.read_csv(\"characters/labels.txt\", delim_whitespace=True)\n",
    "all_dataframe = pd.read_csv(\"../assets/data/characters/labels.txt\", delim_whitespace=True)"
   ]
  },
  {
   "cell_type": "code",
   "execution_count": 122,
   "metadata": {},
   "outputs": [
    {
     "name": "stdout",
     "output_type": "stream",
     "text": [
      "Found 4420 validated image filenames belonging to 26 classes.\n"
     ]
    }
   ],
   "source": [
    "training_generator = image_gen.flow_from_dataframe(\n",
    "    dataframe=all_dataframe, \n",
    "    directory=\"../assets/data/characters/\",\n",
    "    x_col=\"filename\",\n",
    "    y_col=\"category\",\n",
    "    subset=\"training\",\n",
    "    batch_size=20,\n",
    "    classes=None,\n",
    "    class_mode=\"categorical\",\n",
    "    shuffle=True,\n",
    "    target_size=(36, 36)\n",
    ")"
   ]
  },
  {
   "cell_type": "code",
   "execution_count": 123,
   "metadata": {},
   "outputs": [
    {
     "name": "stdout",
     "output_type": "stream",
     "text": [
      "Found 780 validated image filenames belonging to 26 classes.\n"
     ]
    }
   ],
   "source": [
    "validation_generator = image_gen.flow_from_dataframe(\n",
    "    dataframe=all_dataframe, \n",
    "    directory=\"../assets/data/characters/\",\n",
    "    x_col=\"filename\",\n",
    "    y_col=\"category\",\n",
    "    subset=\"validation\",\n",
    "    batch_size=20,\n",
    "    classes=None,\n",
    "    class_mode=\"categorical\",\n",
    "    shuffle=True,\n",
    "    target_size=(36, 36)\n",
    ")"
   ]
  },
  {
   "cell_type": "code",
   "execution_count": 104,
   "metadata": {},
   "outputs": [],
   "source": [
    "input_shape = (36, 36, 3)\n",
    "alpha = 0.2\n",
    "\n",
    "inputs = Input(shape=input_shape)\n",
    "\n",
    "x = Conv2D(16, (3, 3))(inputs)\n",
    "x = LeakyReLU(alpha)(x)\n",
    "x = MaxPooling2D((2, 2))(x)\n",
    "\n",
    "x = SeparableConv2D(32, (3, 3))(x)\n",
    "x = LeakyReLU(alpha)(x)\n",
    "x = MaxPooling2D((2, 2))(x)\n",
    "\n",
    "x = Conv2D(64, (3, 3))(x)\n",
    "x = LeakyReLU(alpha)(x)\n",
    "x = MaxPooling2D((2, 2))(x)\n",
    "\n",
    "x = Flatten()(x)\n",
    "\n",
    "x = Dense(64)(x)\n",
    "x = LeakyReLU(alpha)(x)\n",
    "\n",
    "x = Dense(26, activation=\"softmax\")(x)\n",
    "outputs = x\n",
    "\n",
    "model = keras.Model(inputs=inputs, outputs=outputs)\n",
    "model.compile(\n",
    "    optimizer=keras.optimizers.Adam(lr=0.0001),\n",
    "    loss=\"categorical_crossentropy\",\n",
    "    metrics=[\"accuracy\"])"
   ]
  },
  {
   "cell_type": "code",
   "execution_count": 105,
   "metadata": {},
   "outputs": [
    {
     "name": "stdout",
     "output_type": "stream",
     "text": [
      "Model: \"model_6\"\n",
      "_________________________________________________________________\n",
      "Layer (type)                 Output Shape              Param #   \n",
      "=================================================================\n",
      "input_11 (InputLayer)        (None, 36, 36, 3)         0         \n",
      "_________________________________________________________________\n",
      "conv2d_21 (Conv2D)           (None, 34, 34, 16)        448       \n",
      "_________________________________________________________________\n",
      "leaky_re_lu_40 (LeakyReLU)   (None, 34, 34, 16)        0         \n",
      "_________________________________________________________________\n",
      "max_pooling2d_31 (MaxPooling (None, 17, 17, 16)        0         \n",
      "_________________________________________________________________\n",
      "separable_conv2d_13 (Separab (None, 15, 15, 32)        688       \n",
      "_________________________________________________________________\n",
      "leaky_re_lu_41 (LeakyReLU)   (None, 15, 15, 32)        0         \n",
      "_________________________________________________________________\n",
      "max_pooling2d_32 (MaxPooling (None, 7, 7, 32)          0         \n",
      "_________________________________________________________________\n",
      "conv2d_22 (Conv2D)           (None, 5, 5, 64)          18496     \n",
      "_________________________________________________________________\n",
      "leaky_re_lu_42 (LeakyReLU)   (None, 5, 5, 64)          0         \n",
      "_________________________________________________________________\n",
      "max_pooling2d_33 (MaxPooling (None, 2, 2, 64)          0         \n",
      "_________________________________________________________________\n",
      "flatten_9 (Flatten)          (None, 256)               0         \n",
      "_________________________________________________________________\n",
      "dense_16 (Dense)             (None, 64)                16448     \n",
      "_________________________________________________________________\n",
      "leaky_re_lu_43 (LeakyReLU)   (None, 64)                0         \n",
      "_________________________________________________________________\n",
      "dense_17 (Dense)             (None, 26)                1690      \n",
      "=================================================================\n",
      "Total params: 37,770\n",
      "Trainable params: 37,770\n",
      "Non-trainable params: 0\n",
      "_________________________________________________________________\n"
     ]
    }
   ],
   "source": [
    "model.summary()"
   ]
  },
  {
   "cell_type": "code",
   "execution_count": 125,
   "metadata": {},
   "outputs": [
    {
     "name": "stdout",
     "output_type": "stream",
     "text": [
      "Epoch 1/10\n",
      "221/221 [==============================] - 7s 34ms/step - loss: 0.1782 - accuracy: 0.9382 - val_loss: 0.3539 - val_accuracy: 0.9577\n",
      "Epoch 2/10\n",
      "221/221 [==============================] - 7s 33ms/step - loss: 0.1679 - accuracy: 0.9403 - val_loss: 0.0210 - val_accuracy: 0.9410\n",
      "Epoch 3/10\n",
      "221/221 [==============================] - 7s 33ms/step - loss: 0.1526 - accuracy: 0.9410 - val_loss: 0.0605 - val_accuracy: 0.9679\n",
      "Epoch 4/10\n",
      "221/221 [==============================] - 7s 33ms/step - loss: 0.1549 - accuracy: 0.9428 - val_loss: 0.0659 - val_accuracy: 0.9474\n",
      "Epoch 5/10\n",
      "221/221 [==============================] - 7s 32ms/step - loss: 0.1505 - accuracy: 0.9441 - val_loss: 0.0133 - val_accuracy: 0.9474\n",
      "Epoch 6/10\n",
      "221/221 [==============================] - 7s 33ms/step - loss: 0.1446 - accuracy: 0.9457 - val_loss: 0.2940 - val_accuracy: 0.9410\n",
      "Epoch 7/10\n",
      "221/221 [==============================] - 7s 33ms/step - loss: 0.1402 - accuracy: 0.9489 - val_loss: 0.0298 - val_accuracy: 0.9218\n",
      "Epoch 8/10\n",
      "221/221 [==============================] - 7s 33ms/step - loss: 0.1345 - accuracy: 0.9498 - val_loss: 0.1176 - val_accuracy: 0.9487\n",
      "Epoch 9/10\n",
      "221/221 [==============================] - 7s 33ms/step - loss: 0.1316 - accuracy: 0.9536 - val_loss: 0.0779 - val_accuracy: 0.9641\n",
      "Epoch 10/10\n",
      "221/221 [==============================] - 7s 33ms/step - loss: 0.1301 - accuracy: 0.9500 - val_loss: 0.1342 - val_accuracy: 0.9628\n"
     ]
    },
    {
     "data": {
      "text/plain": [
       "<keras.callbacks.callbacks.History at 0x1df891eb7f0>"
      ]
     },
     "execution_count": 125,
     "metadata": {},
     "output_type": "execute_result"
    }
   ],
   "source": [
    "steps_per_epoch = training_generator.n//training_generator.batch_size\n",
    "validation_steps = validation_generator.n//validation_generator.batch_size\n",
    "\n",
    "model.fit_generator(\n",
    "    generator=training_generator,\n",
    "    steps_per_epoch=steps_per_epoch,\n",
    "    validation_data=validation_generator,\n",
    "    validation_steps=validation_steps,\n",
    "    epochs=10,\n",
    ")"
   ]
  },
  {
   "cell_type": "code",
   "execution_count": 126,
   "metadata": {},
   "outputs": [],
   "source": [
    "model.save(\"characters.h5\")"
   ]
  },
  {
   "cell_type": "code",
   "execution_count": 127,
   "metadata": {},
   "outputs": [
    {
     "name": "stdout",
     "output_type": "stream",
     "text": [
      "[[1. 0. 0. 0. 0. 0. 0. 0. 0. 0. 0. 0. 0. 0. 0. 0. 0. 0. 0. 0. 0. 0. 0. 0.\n",
      "  0. 0.]\n",
      " [0. 0. 0. 0. 0. 0. 0. 0. 0. 0. 0. 0. 0. 0. 0. 0. 0. 0. 0. 0. 0. 0. 0. 0.\n",
      "  0. 1.]]\n",
      "[ 0 25]\n"
     ]
    },
    {
     "data": {
      "text/plain": [
       "<matplotlib.image.AxesImage at 0x1df8a2c74e0>"
      ]
     },
     "execution_count": 127,
     "metadata": {},
     "output_type": "execute_result"
    },
    {
     "data": {
      "image/png": "[encoded data removed]",
      "text/plain": [
       "<Figure size 1080x1080 with 1 Axes>"
      ]
     },
     "metadata": {
      "needs_background": "light"
     },
     "output_type": "display_data"
    }
   ],
   "source": [
    "other_image = cv2.imread(\"../assets/data/characters/sample_0.png\")\n",
    "image = cv2.imread(\"../assets/data/characters/sample_4705.png\")\n",
    "data = np.array([other_image, image])\n",
    "prediction = model.predict(data)\n",
    "print(prediction)\n",
    "print(np.argmax(prediction, axis=1))\n",
    "plt.imshow(image)"
   ]
  },
  {
   "cell_type": "code",
   "execution_count": null,
   "metadata": {},
   "outputs": [],
   "source": []
  }
 ],
 "metadata": {
  "kernelspec": {
   "display_name": "Python 3",
   "language": "python",
   "name": "python3"
  },
  "language_info": {
   "codemirror_mode": {
    "name": "ipython",
    "version": 3
   },
   "file_extension": ".py",
   "mimetype": "text/x-python",
   "name": "python",
   "nbconvert_exporter": "python",
   "pygments_lexer": "ipython3",
   "version": "3.7.3"
  }
 },
 "nbformat": 4,
 "nbformat_minor": 2
}
