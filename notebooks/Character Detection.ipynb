{
 "cells": [
  {
   "cell_type": "code",
   "execution_count": 2,
   "metadata": {},
   "outputs": [
    {
     "name": "stderr",
     "output_type": "stream",
     "text": [
      "Using TensorFlow backend.\n"
     ]
    }
   ],
   "source": [
    "import numpy as np\n",
    "import os\n",
    "from keras.preprocessing.image import ImageDataGenerator\n",
    "from keras import regularizers, optimizers\n",
    "import pandas as pd"
   ]
  },
  {
   "cell_type": "code",
   "execution_count": 3,
   "metadata": {},
   "outputs": [],
   "source": [
    "import matplotlib\n",
    "import matplotlib.pyplot as plt\n",
    "import cv2\n",
    "import scipy\n",
    "matplotlib.rcParams['figure.figsize'] = [15, 15]"
   ]
  },
  {
   "cell_type": "code",
   "execution_count": 4,
   "metadata": {},
   "outputs": [],
   "source": [
    "import keras\n",
    "from keras.layers import Dense, Activation, Flatten, Dropout, BatchNormalization, Input, Softmax\n",
    "from keras.layers import Conv2D, MaxPooling2D, SeparableConv2D\n",
    "from keras.layers import LeakyReLU"
   ]
  },
  {
   "cell_type": "code",
   "execution_count": 24,
   "metadata": {},
   "outputs": [],
   "source": [
    "image_gen = ImageDataGenerator(validation_split=0.15, rescale=1.0/255.0, width_shift_range=0, height_shift_range=0, zoom_range=0.1)\n",
    "dataframe = pd.read_csv(\"characters/labels.txt\", delim_whitespace=True)\n",
    "all_dataframe = pd.read_csv(\"../assets/data/characters/labels.txt\", delim_whitespace=True)"
   ]
  },
  {
   "cell_type": "code",
   "execution_count": 25,
   "metadata": {},
   "outputs": [
    {
     "name": "stdout",
     "output_type": "stream",
     "text": [
      "Found 5495 validated image filenames belonging to 26 classes.\n"
     ]
    }
   ],
   "source": [
    "training_generator = image_gen.flow_from_dataframe(\n",
    "    dataframe=all_dataframe, \n",
    "    directory=\"../assets/data/characters/\",\n",
    "    x_col=\"filename\",\n",
    "    y_col=\"category\",\n",
    "    subset=\"training\",\n",
    "    batch_size=20,\n",
    "    classes=None,\n",
    "    class_mode=\"categorical\",\n",
    "    shuffle=True,\n",
    "    target_size=(36, 36)\n",
    ")"
   ]
  },
  {
   "cell_type": "code",
   "execution_count": 26,
   "metadata": {},
   "outputs": [
    {
     "name": "stdout",
     "output_type": "stream",
     "text": [
      "Found 969 validated image filenames belonging to 26 classes.\n"
     ]
    }
   ],
   "source": [
    "validation_generator = image_gen.flow_from_dataframe(\n",
    "    dataframe=all_dataframe, \n",
    "    directory=\"../assets/data/characters/\",\n",
    "    x_col=\"filename\",\n",
    "    y_col=\"category\",\n",
    "    subset=\"validation\",\n",
    "    batch_size=20,\n",
    "    classes=None,\n",
    "    class_mode=\"categorical\",\n",
    "    shuffle=True,\n",
    "    target_size=(36, 36)\n",
    ")"
   ]
  },
  {
   "cell_type": "code",
   "execution_count": 104,
   "metadata": {},
   "outputs": [],
   "source": [
    "input_shape = (36, 36, 3)\n",
    "alpha = 0.2\n",
    "\n",
    "inputs = Input(shape=input_shape)\n",
    "\n",
    "x = Conv2D(16, (3, 3))(inputs)\n",
    "x = LeakyReLU(alpha)(x)\n",
    "x = MaxPooling2D((2, 2))(x)\n",
    "\n",
    "x = SeparableConv2D(32, (3, 3))(x)\n",
    "x = LeakyReLU(alpha)(x)\n",
    "x = MaxPooling2D((2, 2))(x)\n",
    "\n",
    "x = Conv2D(64, (3, 3))(x)\n",
    "x = LeakyReLU(alpha)(x)\n",
    "x = MaxPooling2D((2, 2))(x)\n",
    "\n",
    "x = Flatten()(x)\n",
    "\n",
    "x = Dense(64)(x)\n",
    "x = LeakyReLU(alpha)(x)\n",
    "\n",
    "x = Dense(26, activation=\"softmax\")(x)\n",
    "outputs = x\n",
    "\n",
    "model = keras.Model(inputs=inputs, outputs=outputs)\n",
    "model.compile(\n",
    "    optimizer=keras.optimizers.Adam(lr=0.0001),\n",
    "    loss=\"categorical_crossentropy\",\n",
    "    metrics=[\"accuracy\"])"
   ]
  },
  {
   "cell_type": "code",
   "execution_count": 14,
   "metadata": {},
   "outputs": [],
   "source": [
    "model = keras.models.load_model(\"characters.h5\")"
   ]
  },
  {
   "cell_type": "code",
   "execution_count": 15,
   "metadata": {},
   "outputs": [
    {
     "name": "stdout",
     "output_type": "stream",
     "text": [
      "Model: \"model_6\"\n",
      "_________________________________________________________________\n",
      "Layer (type)                 Output Shape              Param #   \n",
      "=================================================================\n",
      "input_11 (InputLayer)        (None, 36, 36, 3)         0         \n",
      "_________________________________________________________________\n",
      "conv2d_21 (Conv2D)           (None, 34, 34, 16)        448       \n",
      "_________________________________________________________________\n",
      "leaky_re_lu_40 (LeakyReLU)   (None, 34, 34, 16)        0         \n",
      "_________________________________________________________________\n",
      "max_pooling2d_31 (MaxPooling (None, 17, 17, 16)        0         \n",
      "_________________________________________________________________\n",
      "separable_conv2d_13 (Separab (None, 15, 15, 32)        688       \n",
      "_________________________________________________________________\n",
      "leaky_re_lu_41 (LeakyReLU)   (None, 15, 15, 32)        0         \n",
      "_________________________________________________________________\n",
      "max_pooling2d_32 (MaxPooling (None, 7, 7, 32)          0         \n",
      "_________________________________________________________________\n",
      "conv2d_22 (Conv2D)           (None, 5, 5, 64)          18496     \n",
      "_________________________________________________________________\n",
      "leaky_re_lu_42 (LeakyReLU)   (None, 5, 5, 64)          0         \n",
      "_________________________________________________________________\n",
      "max_pooling2d_33 (MaxPooling (None, 2, 2, 64)          0         \n",
      "_________________________________________________________________\n",
      "flatten_9 (Flatten)          (None, 256)               0         \n",
      "_________________________________________________________________\n",
      "dense_16 (Dense)             (None, 64)                16448     \n",
      "_________________________________________________________________\n",
      "leaky_re_lu_43 (LeakyReLU)   (None, 64)                0         \n",
      "_________________________________________________________________\n",
      "dense_17 (Dense)             (None, 26)                1690      \n",
      "=================================================================\n",
      "Total params: 37,770\n",
      "Trainable params: 37,770\n",
      "Non-trainable params: 0\n",
      "_________________________________________________________________\n"
     ]
    }
   ],
   "source": [
    "model.summary()"
   ]
  },
  {
   "cell_type": "code",
   "execution_count": 27,
   "metadata": {},
   "outputs": [
    {
     "name": "stdout",
     "output_type": "stream",
     "text": [
      "Epoch 1/10\n",
      "274/274 [==============================] - 11s 41ms/step - loss: 0.0343 - accuracy: 0.9870 - val_loss: 0.0185 - val_accuracy: 0.9875\n",
      "Epoch 2/10\n",
      "274/274 [==============================] - 10s 38ms/step - loss: 0.0314 - accuracy: 0.9881 - val_loss: 0.1265 - val_accuracy: 0.9895\n",
      "Epoch 3/10\n",
      "274/274 [==============================] - 10s 37ms/step - loss: 0.0291 - accuracy: 0.9903 - val_loss: 0.0103 - val_accuracy: 0.9852\n",
      "Epoch 4/10\n",
      "274/274 [==============================] - 12s 43ms/step - loss: 0.0265 - accuracy: 0.9911 - val_loss: 4.7270e-04 - val_accuracy: 0.9895\n",
      "Epoch 5/10\n",
      "274/274 [==============================] - 11s 39ms/step - loss: 0.0303 - accuracy: 0.9887 - val_loss: 0.0112 - val_accuracy: 0.9863\n",
      "Epoch 6/10\n",
      "274/274 [==============================] - 11s 40ms/step - loss: 0.0244 - accuracy: 0.9923 - val_loss: 0.0049 - val_accuracy: 0.9810\n",
      "Epoch 7/10\n",
      "274/274 [==============================] - 11s 41ms/step - loss: 0.0229 - accuracy: 0.9932 - val_loss: 0.0922 - val_accuracy: 0.9821\n",
      "Epoch 8/10\n",
      "274/274 [==============================] - 11s 41ms/step - loss: 0.0256 - accuracy: 0.9907 - val_loss: 0.0080 - val_accuracy: 0.9863\n",
      "Epoch 9/10\n",
      "274/274 [==============================] - 10s 37ms/step - loss: 0.0225 - accuracy: 0.9921 - val_loss: 0.0105 - val_accuracy: 0.9905\n",
      "Epoch 10/10\n",
      "274/274 [==============================] - 10s 35ms/step - loss: 0.0214 - accuracy: 0.9918 - val_loss: 0.0359 - val_accuracy: 0.9842\n"
     ]
    },
    {
     "data": {
      "text/plain": [
       "<keras.callbacks.callbacks.History at 0x27af0cf0208>"
      ]
     },
     "execution_count": 27,
     "metadata": {},
     "output_type": "execute_result"
    }
   ],
   "source": [
    "steps_per_epoch = training_generator.n//training_generator.batch_size\n",
    "validation_steps = validation_generator.n//validation_generator.batch_size\n",
    "\n",
    "model.fit_generator(\n",
    "    generator=training_generator,\n",
    "    steps_per_epoch=steps_per_epoch,\n",
    "    validation_data=validation_generator,\n",
    "    validation_steps=validation_steps,\n",
    "    epochs=10,\n",
    ")"
   ]
  },
  {
   "cell_type": "code",
   "execution_count": 28,
   "metadata": {},
   "outputs": [],
   "source": [
    "model.save(\"characters.h5\")\n",
    "model.save(\"../assets/models/characters.h5\")"
   ]
  },
  {
   "cell_type": "code",
   "execution_count": 29,
   "metadata": {},
   "outputs": [
    {
     "name": "stdout",
     "output_type": "stream",
     "text": [
      "[[9.99999046e-01 7.41646744e-08 5.40866377e-16 3.24133542e-13\n",
      "  1.93547587e-12 1.46949293e-11 1.65606955e-11 2.15481366e-09\n",
      "  5.79565883e-16 2.32341316e-12 3.16586579e-08 6.45167567e-13\n",
      "  8.03118239e-10 9.89308457e-09 3.78676951e-19 4.98129142e-11\n",
      "  9.75087041e-18 5.87235989e-12 1.24009210e-16 8.04343910e-23\n",
      "  9.32953714e-12 1.00530749e-12 7.79565994e-07 9.39974210e-10\n",
      "  2.82017200e-18 1.13077128e-17]\n",
      " [4.81913847e-15 1.41967345e-08 4.43187431e-11 2.12721751e-09\n",
      "  1.71031557e-11 1.24270212e-12 5.81735788e-12 6.72699405e-17\n",
      "  9.64479049e-19 1.50471419e-06 3.86131192e-15 1.16958136e-12\n",
      "  6.95800456e-16 4.49726194e-23 6.61840076e-08 8.01243971e-07\n",
      "  2.17193125e-12 1.60239072e-10 1.28524553e-18 2.04131689e-09\n",
      "  3.90125376e-17 5.31058265e-16 7.51266674e-17 1.94323291e-09\n",
      "  4.18085372e-10 9.99997616e-01]]\n",
      "[ 0 25]\n"
     ]
    },
    {
     "data": {
      "text/plain": [
       "<matplotlib.image.AxesImage at 0x27af0e556a0>"
      ]
     },
     "execution_count": 29,
     "metadata": {},
     "output_type": "execute_result"
    },
    {
     "data": {
      "image/png": "[encoded data removed]",
      "text/plain": [
       "<Figure size 432x288 with 1 Axes>"
      ]
     },
     "metadata": {
      "needs_background": "light"
     },
     "output_type": "display_data"
    }
   ],
   "source": [
    "other_image = cv2.imread(\"../assets/data/characters/sample_0.png\")\n",
    "image = cv2.imread(\"../assets/data/characters/sample_4705.png\")\n",
    "data = np.array([other_image/255.0, image/255.0])\n",
    "prediction = model.predict(data)\n",
    "print(prediction)\n",
    "print(np.argmax(prediction, axis=1))\n",
    "plt.imshow(image)"
   ]
  },
  {
   "cell_type": "code",
   "execution_count": null,
   "metadata": {},
   "outputs": [],
   "source": []
  }
 ],
 "metadata": {
  "kernelspec": {
   "display_name": "Python 3",
   "language": "python",
   "name": "python3"
  },
  "language_info": {
   "codemirror_mode": {
    "name": "ipython",
    "version": 3
   },
   "file_extension": ".py",
   "mimetype": "text/x-python",
   "name": "python",
   "nbconvert_exporter": "python",
   "pygments_lexer": "ipython3",
   "version": "3.7.3"
  }
 },
 "nbformat": 4,
 "nbformat_minor": 2
}
